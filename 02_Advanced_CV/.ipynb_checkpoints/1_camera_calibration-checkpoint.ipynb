{
 "cells": [
  {
   "cell_type": "code",
   "execution_count": null,
   "metadata": {},
   "outputs": [],
   "source": [
    "import numpy as np\n",
    "import cv2\n",
    "import matplotlib.pyplot as plt\n",
    "import matplotlib.image as mpimg\n",
    "import pickle\n",
    "import glob\n",
    "import os\n",
    "%matplotlib inline"
   ]
  },
  {
   "cell_type": "markdown",
   "metadata": {},
   "source": [
    "### Find Corners"
   ]
  },
  {
   "cell_type": "markdown",
   "metadata": {},
   "source": [
    "Grey image shape (height, width): **gray.shape[::-1]**\n",
    "\n",
    "Color image shape (height, width): **img.shape[1::-1]**\n",
    "- This code asks for just first two values, and reverse them\n",
    "- shape array of a color image might be (960, 1280, 3), result should be (960, 1280)"
   ]
  },
  {
   "cell_type": "code",
   "execution_count": 12,
   "metadata": {},
   "outputs": [],
   "source": [
    "objpoints = [] # 3D points in real world spcae\n",
    "imgpoints = [] # 2D points in image plans\n",
    "\n",
    "# Prepare object points, like (0,0,0), (1,0,0), (2,0,0) ... (7,5,0)\n",
    "objp = np.zeros((6*8,3), np.float32)\n",
    "objp[:,:2] = np.mgrid[0:8, 0:6].T.reshape(-1,2) # x, y coordinate"
   ]
  },
  {
   "cell_type": "code",
   "execution_count": 13,
   "metadata": {},
   "outputs": [],
   "source": [
    "# prepare object points\n",
    "nx = 8 #  number of corners in any given row (x)\n",
    "ny = 6 #  number of corners in a given column (y)\n",
    "\n",
    "# Read image and convert to grey scale\n",
    "fname = './image/calibration_test.png'\n",
    "img = cv2.imread(fname)\n",
    "\n",
    "gray = cv2.cvtColor(img, cv2.COLOR_BGR2GRAY)\n",
    "ret, corners = cv2.findChessboardCorners(gray, (nx, ny), None)\n",
    "\n",
    "# If found, draw corners\n",
    "if ret == True:\n",
    "    imgpoints.append(corners)\n",
    "    objpoints.append(objp)\n",
    "    img_draw = cv2.drawChessboardCorners(img, (nx, ny), corners, ret)\n",
    "\n",
    "def cal_undistort(img, objpoints, imgpoints):\n",
    "    distored = np.copy(img)\n",
    "    \n",
    "    img_shape = (img.shape[1], img.shape[0]) #img.shape[::-1]\n",
    "    ret, mtx, dist, rvecs, tvecs = cv2.calibrateCamera(\n",
    "                                objpoints, imgpoints, img_shape,None,None)\n",
    "    undist = cv2.undistort(img, mtx, dist, None, mtx)\n",
    "    \n",
    "    return undist\n",
    "\n",
    "\n",
    "undistorted = cal_undistort(img, objpoints, imgpoints)\n",
    "\n",
    "f, (ax1, ax2) = plt.subplots(1, 2, figsize=(24, 9))\n",
    "f.tight_layout()\n",
    "ax1.imshow(img_draw)\n",
    "ax1.set_title('Original Image', fontsize=50)\n",
    "ax2.imshow(undistorted)\n",
    "ax2.set_title('Undistorted Image', fontsize=50)\n",
    "plt.subplots_adjust(left=0., right=1, top=0.9, bottom=0.)"
   ]
  },
  {
   "cell_type": "code",
   "execution_count": null,
   "metadata": {},
   "outputs": [],
   "source": [
    "# prepare object points, like (0,0,0), (1,0,0), (2,0,0) ....,(6,5,0)\n",
    "objp = np.zeros((6*8,3), np.float32)\n",
    "objp[:,:2] = np.mgrid[0:8, 0:6].T.reshape(-1,2)\n",
    "\n",
    "# Arrays to store object points and image points from all the images.\n",
    "objpoints = [] # 3d points in real world space\n",
    "imgpoints = [] # 2d points in image plane.\n",
    "\n",
    "images = glob.glob('./camera_cal/GO*.jpg')\n",
    "\n",
    "for index, filename in enumerate(images):\n",
    "    img = cv2.imread(filename)\n",
    "    gray = cv2.cvtColor(img, cv2.COLOR_BGR2GRAY)\n",
    "    img_size = (img.shape[1], img.shape[0])\n",
    "    \n",
    "    ret, corners = cv2.findChessboardCorners(gray, (8,6), None)\n",
    "    \n",
    "    # If found, add object points, image points\n",
    "    if ret == True:\n",
    "        print(filename, \" processing\")\n",
    "        objpoints.append(objp)\n",
    "        imgpoints.append(corners)\n",
    "\n",
    "        #img_draw = cv2.drawChessboardCorners(img, (8,6), corners, ret)\n",
    "        #write_name = 'corners_found'+str(index)+'.jpg'\n",
    "        #cv2.imwrite(write_name, img)\n",
    "        #cv2.imshow('img', img)\n",
    "        \n",
    "        ret, mtx, dist, rvecs, tvecs = cv2.calibrateCamera(\n",
    "                                objpoints, imgpoints, img_size,None,None)\n",
    "        undist = cv2.undistort(img, mtx, dist, None, mtx)\n",
    "        cv2.imwrite('./camera_undist/undist {}.jpg'.format(filename[-8:-4]), undist)\n",
    "        \n",
    "        # Save the camera calibration result for later use (we won't worry about rvecs / tvecs)\n",
    "        dist_pickle = {}\n",
    "        dist_pickle[\"mtx\"] = mtx\n",
    "        dist_pickle[\"dist\"] = dist\n",
    "        pickle.dump( dist_pickle, open( \"./camera_undist/{}.p\".format(filename[-8:-4]), \"wb\" ) )\n",
    "        \n",
    "#         f, (ax1, ax2) = plt.subplots(1, 2, figsize=(20,10))\n",
    "#         ax1.imshow(img)\n",
    "#         ax1.set_title('Original Image', fontsize=30)\n",
    "#         ax2.imshow(undist)\n",
    "#         ax2.set_title('Undistorted Image', fontsize=30)\n",
    "\n",
    "    else:\n",
    "        print('not founded ', filename)"
   ]
  },
  {
   "cell_type": "code",
   "execution_count": null,
   "metadata": {},
   "outputs": [],
   "source": []
  }
 ],
 "metadata": {
  "kernelspec": {
   "display_name": "Python 3",
   "language": "python",
   "name": "python3"
  },
  "language_info": {
   "codemirror_mode": {
    "name": "ipython",
    "version": 3
   },
   "file_extension": ".py",
   "mimetype": "text/x-python",
   "name": "python",
   "nbconvert_exporter": "python",
   "pygments_lexer": "ipython3",
   "version": "3.6.8"
  }
 },
 "nbformat": 4,
 "nbformat_minor": 2
}
