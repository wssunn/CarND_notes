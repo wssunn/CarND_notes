{
 "cells": [
  {
   "cell_type": "markdown",
   "metadata": {
    "colab_type": "text",
    "id": "A8MVXQUFkX3n"
   },
   "source": [
    "##### Copyright 2019 The TensorFlow Authors."
   ]
  },
  {
   "cell_type": "code",
   "execution_count": 1,
   "metadata": {
    "cellView": "form",
    "colab": {},
    "colab_type": "code",
    "id": "IcfrhafzkZbH"
   },
   "outputs": [],
   "source": [
    "#@title Licensed under the Apache License, Version 2.0 (the \"License\");\n",
    "# you may not use this file except in compliance with the License.\n",
    "# You may obtain a copy of the License at\n",
    "#\n",
    "# https://www.apache.org/licenses/LICENSE-2.0\n",
    "#\n",
    "# Unless required by applicable law or agreed to in writing, software\n",
    "# distributed under the License is distributed on an \"AS IS\" BASIS,\n",
    "# WITHOUT WARRANTIES OR CONDITIONS OF ANY KIND, either express or implied.\n",
    "# See the License for the specific language governing permissions and\n",
    "# limitations under the License."
   ]
  },
  {
   "cell_type": "markdown",
   "metadata": {
    "colab_type": "text",
    "id": "zOSK2IBG6-9Z"
   },
   "source": [
    "# Training and Evaluation with TensorFlow Keras\n"
   ]
  },
  {
   "cell_type": "markdown",
   "metadata": {
    "colab_type": "text",
    "id": "7s-G0Fajsvjn"
   },
   "source": [
    "\n",
    "<table class=\"tfo-notebook-buttons\" align=\"left\">\n",
    "  <td>\n",
    "    <a target=\"_blank\" href=\"https://www.tensorflow.org/beta/guide/keras/training_and_evaluation\"><img src=\"https://www.tensorflow.org/images/tf_logo_32px.png\" />View on TensorFlow.org</a>\n",
    "  </td>\n",
    "  <td>\n",
    "    <a target=\"_blank\" href=\"https://colab.research.google.com/github/tensorflow/docs/blob/master/site/en/r2/guide/keras/training_and_evaluation.ipynb\"><img src=\"https://www.tensorflow.org/images/colab_logo_32px.png\" />Run in Google Colab</a>\n",
    "  </td>\n",
    "  <td>\n",
    "    <a target=\"_blank\" href=\"https://github.com/tensorflow/docs/blob/master/site/en/r2/guide/keras/training_and_evaluation.ipynb\"><img src=\"https://www.tensorflow.org/images/GitHub-Mark-32px.png\" />View source on GitHub</a>\n",
    "  </td>\n",
    "  <td>\n",
    "    <a href=\"https://storage.googleapis.com/tensorflow_docs/docs/site/en/r2/guide/keras/training_and_evaluation.ipynb\"><img src=\"https://www.tensorflow.org/images/download_logo_32px.png\" />Download notebook</a>\n",
    "  </td>\n",
    "</table>\n"
   ]
  },
  {
   "cell_type": "markdown",
   "metadata": {
    "colab_type": "text",
    "id": "tc92ghg-sw2w"
   },
   "source": [
    "\n",
    "This guide covers training, evaluation, and prediction (inference)  models in TensorFlow 2.0 in two broad situations:\n",
    "\n",
    "- When using built-in APIs for training & validation (such as `model.fit()`, `model.evaluate()`, `model.predict()`). This is covered in the section **\"Using build-in training & evaluation loops\"**.\n",
    "- When writing custom loops from scratch using eager execution and the `GradientTape` object. This is covered in the section **\"Writing your own training & evaluation loops from scratch\"**.\n",
    "\n",
    "In general, whether you are using built-in loops or writing your own, model training & evaluation works strictly in the same way across every kind of Keras model -- Sequential models, models built with the Functional API, and models written from scratch via model subclassing.\n",
    "\n",
    "This guide doesn't cover distributed training."
   ]
  },
  {
   "cell_type": "markdown",
   "metadata": {
    "colab_type": "text",
    "id": "RNG8OH3yuWrb"
   },
   "source": [
    "## Setup"
   ]
  },
  {
   "cell_type": "code",
   "execution_count": 2,
   "metadata": {
    "colab": {},
    "colab_type": "code",
    "id": "Uh_b0kqEuYah"
   },
   "outputs": [],
   "source": [
    "from __future__ import absolute_import, division, print_function, unicode_literals\n",
    "\n",
    "!pip install -q tensorflow-gpu==2.0.0-beta1\n",
    "import tensorflow as tf\n",
    "\n",
    "tf.keras.backend.clear_session()  # For easy reset of notebook state."
   ]
  },
  {
   "cell_type": "markdown",
   "metadata": {
    "colab_type": "text",
    "id": "052DbsQ175lP"
   },
   "source": [
    "## Part I: Using build-in training & evaluation loops\n",
    "\n",
    "When passing data to the built-in training loops of a model, you should either use **Numpy arrays** (if your data is small and fits in memory) or **tf.data Dataset** objects. In the next few paragraphs, we'll use the MNIST dataset as Numpy arrays, in order to demonstrate how to use optimizers, losses, and metrics."
   ]
  },
  {
   "cell_type": "markdown",
   "metadata": {
    "colab_type": "text",
    "id": "rXDWPajQ8V8V"
   },
   "source": [
    "### API overview: a first end-to-end example\n",
    "\n",
    "Let's consider the following model (here, we build in with the Functional API, but it could be a Sequential model or a subclassed model as well):\n",
    "\n",
    "\n",
    "\n"
   ]
  },
  {
   "cell_type": "code",
   "execution_count": 3,
   "metadata": {
    "colab": {},
    "colab_type": "code",
    "id": "_eJxUppsNjMj"
   },
   "outputs": [],
   "source": [
    "from tensorflow import keras\n",
    "from tensorflow.keras import layers\n",
    "\n",
    "inputs = keras.Input(shape=(784,), name='digits')\n",
    "x = layers.Dense(64, activation='relu', name='dense_1')(inputs)\n",
    "x = layers.Dense(64, activation='relu', name='dense_2')(x)\n",
    "outputs = layers.Dense(10, activation='softmax', name='predictions')(x)\n",
    "\n",
    "model = keras.Model(inputs=inputs, outputs=outputs)"
   ]
  },
  {
   "cell_type": "markdown",
   "metadata": {
    "colab_type": "text",
    "id": "C02iiuYZNklq"
   },
   "source": [
    "Here's what the typical end-to-end workflow looks like, consisting of training, validation on a holdout set generated from the original training data, and finally evaluation on the test data:\n"
   ]
  },
  {
   "cell_type": "code",
   "execution_count": 4,
   "metadata": {
    "colab": {},
    "colab_type": "code",
    "id": "YTzpaClpNvyJ"
   },
   "outputs": [
    {
     "name": "stderr",
     "output_type": "stream",
     "text": [
      "WARNING: Logging before flag parsing goes to stderr.\n",
      "W0709 23:07:15.098386 140306293311232 deprecation.py:323] From /tmpfs/src/tf_docs_env/lib/python3.5/site-packages/tensorflow/python/ops/math_grad.py:1250: add_dispatch_support.<locals>.wrapper (from tensorflow.python.ops.array_ops) is deprecated and will be removed in a future version.\n",
      "Instructions for updating:\n",
      "Use tf.where in 2.0, which has the same broadcast rule as np.where\n"
     ]
    },
    {
     "name": "stdout",
     "output_type": "stream",
     "text": [
      "# Fit model on training data\n",
      "Train on 50000 samples, validate on 10000 samples\n",
      "Epoch 1/3\n",
      "50000/50000 [==============================] - 3s 58us/sample - loss: 0.3516 - sparse_categorical_accuracy: 0.8994 - val_loss: 0.1833 - val_sparse_categorical_accuracy: 0.9481\n",
      "Epoch 2/3\n",
      "50000/50000 [==============================] - 2s 47us/sample - loss: 0.1651 - sparse_categorical_accuracy: 0.9503 - val_loss: 0.1373 - val_sparse_categorical_accuracy: 0.9614\n",
      "Epoch 3/3\n",
      "50000/50000 [==============================] - 2s 47us/sample - loss: 0.1216 - sparse_categorical_accuracy: 0.9634 - val_loss: 0.1305 - val_sparse_categorical_accuracy: 0.9623\n",
      "\n",
      "history dict: {'loss': [0.35157812187194826, 0.16510535648852587, 0.12158488945007324], 'val_loss': [0.18329490706920623, 0.1372552829027176, 0.1304820910334587], 'sparse_categorical_accuracy': [0.89942, 0.95026, 0.96344], 'val_sparse_categorical_accuracy': [0.9481, 0.9614, 0.9623]}\n",
      "\n",
      "# Evaluate on test data\n",
      "10000/10000 [==============================] - 0s 17us/sample - loss: 0.1360 - sparse_categorical_accuracy: 0.9609\n",
      "test loss, test acc: [0.13599673555791378, 0.9609]\n",
      "\n",
      "# Generate predictions for 3 samples\n",
      "predictions shape: (3, 10)\n"
     ]
    }
   ],
   "source": [
    "# Load a toy dataset for the sake of this example\n",
    "(x_train, y_train), (x_test, y_test) = keras.datasets.mnist.load_data()\n",
    "\n",
    "# Preprocess the data (these are Numpy arrays)\n",
    "x_train = x_train.reshape(60000, 784).astype('float32') / 255\n",
    "x_test = x_test.reshape(10000, 784).astype('float32') / 255\n",
    "\n",
    "# Reserve 10,000 samples for validation\n",
    "x_val = x_train[-10000:]\n",
    "y_val = y_train[-10000:]\n",
    "x_train = x_train[:-10000]\n",
    "y_train = y_train[:-10000]\n",
    "\n",
    "# Specify the training configuration (optimizer, loss, metrics)\n",
    "model.compile(optimizer=keras.optimizers.RMSprop(),  # Optimizer\n",
    "              # Loss function to minimize\n",
    "              loss=keras.losses.SparseCategoricalCrossentropy(),\n",
    "              # List of metrics to monitor\n",
    "              metrics=[keras.metrics.SparseCategoricalAccuracy()])\n",
    "\n",
    "# Train the model by slicing the data into \"batches\"\n",
    "# of size \"batch_size\", and repeatedly iterating over\n",
    "# the entire dataset for a given number of \"epochs\"\n",
    "print('# Fit model on training data')\n",
    "history = model.fit(x_train, y_train,\n",
    "                    batch_size=64,\n",
    "                    epochs=3,\n",
    "                    # We pass some validation for\n",
    "                    # monitoring validation loss and metrics\n",
    "                    # at the end of each epoch\n",
    "                    validation_data=(x_val, y_val))\n",
    "\n",
    "# The returned \"history\" object holds a record\n",
    "# of the loss values and metric values during training\n",
    "print('\\nhistory dict:', history.history)\n",
    "\n",
    "# Evaluate the model on the test data using `evaluate`\n",
    "print('\\n# Evaluate on test data')\n",
    "results = model.evaluate(x_test, y_test, batch_size=128)\n",
    "print('test loss, test acc:', results)\n",
    "\n",
    "# Generate predictions (probabilities -- the output of the last layer)\n",
    "# on new data using `predict`\n",
    "print('\\n# Generate predictions for 3 samples')\n",
    "predictions = model.predict(x_test[:3])\n",
    "print('predictions shape:', predictions.shape)"
   ]
  },
  {
   "cell_type": "markdown",
   "metadata": {
    "colab_type": "text",
    "id": "R43f-GWfDkQ5"
   },
   "source": [
    "### Specifying a loss, metrics, and an optimizer\n",
    "\n",
    "To train a model with `fit`, you need to specify a loss function, an optimizer, and optionally, some metrics to monitor.\n",
    "\n",
    "You pass these to the model as arguments to the `compile()` method:\n",
    "\n"
   ]
  },
  {
   "cell_type": "code",
   "execution_count": 5,
   "metadata": {
    "colab": {},
    "colab_type": "code",
    "id": "CiB85T_hM_vQ"
   },
   "outputs": [],
   "source": [
    "model.compile(optimizer=keras.optimizers.RMSprop(learning_rate=1e-3),\n",
    "              loss=keras.losses.SparseCategoricalCrossentropy(),\n",
    "              metrics=[keras.metrics.SparseCategoricalAccuracy()])"
   ]
  },
  {
   "cell_type": "markdown",
   "metadata": {
    "colab_type": "text",
    "id": "lq3wsghNM_7C"
   },
   "source": [
    "The `metrics` argument should be a list -- you model can have any number of metrics.\n",
    "\n",
    "If your model has multiple outputs, you can specify  different losses and metrics for each output,\n",
    "and you can modulate to contribution of each output to the total loss of the model. You will find more details about this in the section \"**Passing data to multi-input, multi-output models**\".\n",
    "\n",
    "Note that in many cases, the loss and metrics are specified via string identifiers, as a shortcut:\n"
   ]
  },
  {
   "cell_type": "code",
   "execution_count": 6,
   "metadata": {
    "colab": {},
    "colab_type": "code",
    "id": "pOQOcScsNiT3"
   },
   "outputs": [],
   "source": [
    "model.compile(optimizer=keras.optimizers.RMSprop(learning_rate=1e-3),\n",
    "              loss='sparse_categorical_crossentropy',\n",
    "              metrics=['sparse_categorical_accuracy'])"
   ]
  },
  {
   "cell_type": "markdown",
   "metadata": {
    "colab_type": "text",
    "id": "IVHOVTqFknZP"
   },
   "source": [
    "For later reuse, let's put our model definition and compile step in functions; we will call them several times across different examples in this guide."
   ]
  },
  {
   "cell_type": "code",
   "execution_count": 7,
   "metadata": {
    "colab": {},
    "colab_type": "code",
    "id": "G3Zrjsf_kt8k"
   },
   "outputs": [],
   "source": [
    "def get_uncompiled_model():\n",
    "  inputs = keras.Input(shape=(784,), name='digits')\n",
    "  x = layers.Dense(64, activation='relu', name='dense_1')(inputs)\n",
    "  x = layers.Dense(64, activation='relu', name='dense_2')(x)\n",
    "  outputs = layers.Dense(10, activation='softmax', name='predictions')(x)\n",
    "  model = keras.Model(inputs=inputs, outputs=outputs)\n",
    "  return model\n",
    "\n",
    "def get_compiled_model():\n",
    "  model = get_uncompiled_model()\n",
    "  model.compile(optimizer=keras.optimizers.RMSprop(learning_rate=1e-3),\n",
    "              loss='sparse_categorical_crossentropy',\n",
    "              metrics=['sparse_categorical_accuracy'])\n",
    "  return model"
   ]
  },
  {
   "cell_type": "markdown",
   "metadata": {
    "colab_type": "text",
    "id": "_1rDyyQEtC8E"
   },
   "source": [
    "#### Many built-in optimizers, losses, and metrics are available\n",
    "\n",
    "In general, you won't have to create from scratch your own losses, metrics, or optimizers, because what you need is likely already part of the Keras API:\n",
    "\n",
    "Optimizers:\n",
    "- `SGD()` (with or without momentum)\n",
    "- `RMSprop()`\n",
    "- `Adam()`\n",
    "- etc.\n",
    "\n",
    "Losses:\n",
    "- `MeanSquaredError()`\n",
    "- `KLDivergence()`\n",
    "- `CosineSimilarity()`\n",
    "- etc.\n",
    "\n",
    "Metrics:\n",
    "- `AUC()`\n",
    "- `Precision()`\n",
    "- `Recall()`\n",
    "- etc."
   ]
  },
  {
   "cell_type": "markdown",
   "metadata": {
    "colab_type": "text",
    "id": "YUkJi7ENDnCg"
   },
   "source": [
    "#### Writing custom losses and metrics\n",
    "\n",
    "If you need a metric that isn't part of the API, you can easily create custom metrics by subclassing the `Metric` class. You will need to implement 4 methods:\n",
    "\n",
    "- `__init__(self)`,  in which you will create state variables for your metric.\n",
    "- `update_state(self, y_true, y_pred, sample_weight=None)`, which uses the targets `y_true` and the model predictions `y_pred` to update the state variables.\n",
    "- `result(self)`, which uses the state variables to compute the final results.\n",
    "- `reset_states(self)`, which reinitializes the state of the metric.\n",
    "\n",
    "State update and results computation are kept separate (in `update_state()` and `result()`, respectively) because in some cases, results computation might be very expensive, and would only be done periodically.\n",
    "\n",
    "Here's a simple example showing how to implement a `CatgoricalTruePositives` metric, that counts how many samples where correctly classified as belonging to a given class:"
   ]
  },
  {
   "cell_type": "code",
   "execution_count": 8,
   "metadata": {
    "colab": {},
    "colab_type": "code",
    "id": "MbSNO6uePVsF"
   },
   "outputs": [
    {
     "name": "stdout",
     "output_type": "stream",
     "text": [
      "Train on 50000 samples\n",
      "Epoch 1/3\n",
      "50000/50000 [==============================] - 2s 49us/sample - loss: 0.0975 - categorical_true_positives: 48496.0000\n",
      "Epoch 2/3\n",
      "50000/50000 [==============================] - 2s 48us/sample - loss: 0.0801 - categorical_true_positives: 48813.0000\n",
      "Epoch 3/3\n",
      "50000/50000 [==============================] - 2s 48us/sample - loss: 0.0683 - categorical_true_positives: 48986.0000\n"
     ]
    },
    {
     "data": {
      "text/plain": [
       "<tensorflow.python.keras.callbacks.History at 0x7f9aa46cef98>"
      ]
     },
     "execution_count": 8,
     "metadata": {},
     "output_type": "execute_result"
    }
   ],
   "source": [
    "class CatgoricalTruePositives(keras.metrics.Metric):\n",
    "\n",
    "    def __init__(self, name='categorical_true_positives', **kwargs):\n",
    "      super(CatgoricalTruePositives, self).__init__(name=name, **kwargs)\n",
    "      self.true_positives = self.add_weight(name='tp', initializer='zeros')\n",
    "\n",
    "    def update_state(self, y_true, y_pred, sample_weight=None):\n",
    "      y_pred = tf.reshape(tf.argmax(y_pred, axis=1), shape=(-1, 1))\n",
    "      values = tf.equal(tf.cast(y_true, 'int32'), tf.cast(y_pred, 'int32'))\n",
    "      values = tf.cast(values, 'float32')\n",
    "      if sample_weight is not None:\n",
    "        sample_weight = tf.cast(sample_weight, 'float32')\n",
    "        values = tf.multiply(values, sample_weight)\n",
    "      self.true_positives.assign_add(tf.reduce_sum(values))\n",
    "\n",
    "    def result(self):\n",
    "      return self.true_positives\n",
    "\n",
    "    def reset_states(self):\n",
    "      # The state of the metric will be reset at the start of each epoch.\n",
    "      self.true_positives.assign(0.)\n",
    "\n",
    "\n",
    "model.compile(optimizer=keras.optimizers.RMSprop(learning_rate=1e-3),\n",
    "              loss=keras.losses.SparseCategoricalCrossentropy(),\n",
    "              metrics=[CatgoricalTruePositives()])\n",
    "model.fit(x_train, y_train,\n",
    "          batch_size=64,\n",
    "          epochs=3)\n"
   ]
  },
  {
   "cell_type": "markdown",
   "metadata": {
    "colab_type": "text",
    "id": "HipGsW7qDo0Q"
   },
   "source": [
    "#### Handling losses and metrics that don't fit the standard signature\n",
    "\n",
    "The overwhelming majority of losses and metrics can be computed from `y_true` and `y_pred`, where `y_pred` is an output of your model. But not all of them. For instance, a regularization loss may only require the activation of a layer (there are no targets in this case), and this activation may not be a model output.\n",
    "\n",
    "In such cases, you can call `self.add_loss(loss_value)` from inside the `call` method of a custom layer. Here's a simple example that adds activity regularization (note that activity regularization is built-in in all Keras layers -- this layer is just for the sake of providing a concrete example):\n"
   ]
  },
  {
   "cell_type": "code",
   "execution_count": 9,
   "metadata": {
    "colab": {},
    "colab_type": "code",
    "id": "CrYwrDR0PWab"
   },
   "outputs": [
    {
     "name": "stdout",
     "output_type": "stream",
     "text": [
      "Train on 50000 samples\n",
      "50000/50000 [==============================] - 2s 41us/sample - loss: 2.5027\n"
     ]
    },
    {
     "data": {
      "text/plain": [
       "<tensorflow.python.keras.callbacks.History at 0x7f9aa4294630>"
      ]
     },
     "execution_count": 9,
     "metadata": {},
     "output_type": "execute_result"
    }
   ],
   "source": [
    "class ActivityRegularizationLayer(layers.Layer):\n",
    "\n",
    "  def call(self, inputs):\n",
    "    self.add_loss(tf.reduce_sum(inputs) * 0.1)\n",
    "    return inputs  # Pass-through layer.\n",
    "\n",
    "inputs = keras.Input(shape=(784,), name='digits')\n",
    "x = layers.Dense(64, activation='relu', name='dense_1')(inputs)\n",
    "\n",
    "# Insert activity regularization as a layer\n",
    "x = ActivityRegularizationLayer()(x)\n",
    "\n",
    "x = layers.Dense(64, activation='relu', name='dense_2')(x)\n",
    "outputs = layers.Dense(10, activation='softmax', name='predictions')(x)\n",
    "\n",
    "model = keras.Model(inputs=inputs, outputs=outputs)\n",
    "model.compile(optimizer=keras.optimizers.RMSprop(learning_rate=1e-3),\n",
    "              loss='sparse_categorical_crossentropy')\n",
    "\n",
    "# The displayed loss will be much higher than before\n",
    "# due to the regularization component.\n",
    "model.fit(x_train, y_train,\n",
    "          batch_size=64,\n",
    "          epochs=1)"
   ]
  },
  {
   "cell_type": "markdown",
   "metadata": {
    "colab_type": "text",
    "id": "fWnqsdwt06us"
   },
   "source": [
    "You can do the same for logging metric values:"
   ]
  },
  {
   "cell_type": "code",
   "execution_count": 10,
   "metadata": {
    "colab": {},
    "colab_type": "code",
    "id": "ZBYYhVgJ0973"
   },
   "outputs": [
    {
     "name": "stdout",
     "output_type": "stream",
     "text": [
      "Train on 50000 samples\n",
      "50000/50000 [==============================] - 2s 44us/sample - loss: 0.3322 - std_of_activation: 0.9682\n"
     ]
    },
    {
     "data": {
      "text/plain": [
       "<tensorflow.python.keras.callbacks.History at 0x7f9aa46887f0>"
      ]
     },
     "execution_count": 10,
     "metadata": {},
     "output_type": "execute_result"
    }
   ],
   "source": [
    "class MetricLoggingLayer(layers.Layer):\n",
    "\n",
    "  def call(self, inputs):\n",
    "    # The `aggregation` argument defines\n",
    "    # how to aggregate the per-batch values\n",
    "    # over each epoch:\n",
    "    # in this case we simply average them.\n",
    "    self.add_metric(keras.backend.std(inputs),\n",
    "                    name='std_of_activation',\n",
    "                    aggregation='mean')\n",
    "    return inputs  # Pass-through layer.\n",
    "\n",
    "\n",
    "inputs = keras.Input(shape=(784,), name='digits')\n",
    "x = layers.Dense(64, activation='relu', name='dense_1')(inputs)\n",
    "\n",
    "# Insert std logging as a layer.\n",
    "x = MetricLoggingLayer()(x)\n",
    "\n",
    "x = layers.Dense(64, activation='relu', name='dense_2')(x)\n",
    "outputs = layers.Dense(10, activation='softmax', name='predictions')(x)\n",
    "\n",
    "model = keras.Model(inputs=inputs, outputs=outputs)\n",
    "model.compile(optimizer=keras.optimizers.RMSprop(learning_rate=1e-3),\n",
    "              loss='sparse_categorical_crossentropy')\n",
    "model.fit(x_train, y_train,\n",
    "          batch_size=64,\n",
    "          epochs=1)"
   ]
  },
  {
   "cell_type": "markdown",
   "metadata": {
    "colab_type": "text",
    "id": "f9_9XQvA0Jap"
   },
   "source": [
    "In the [Functional API](functional.ipynb), you can also call `model.add_loss(loss_tensor)`, or `model.add_metric(metric_tensor, name, aggregation)`.\n",
    "\n",
    "Here's a simple example:"
   ]
  },
  {
   "cell_type": "code",
   "execution_count": 11,
   "metadata": {
    "colab": {},
    "colab_type": "code",
    "id": "WrA1yFql0gXg"
   },
   "outputs": [
    {
     "name": "stdout",
     "output_type": "stream",
     "text": [
      "Train on 50000 samples\n",
      "50000/50000 [==============================] - 3s 54us/sample - loss: 2.5583 - std_of_activation: 0.0023\n"
     ]
    },
    {
     "data": {
      "text/plain": [
       "<tensorflow.python.keras.callbacks.History at 0x7f9a9045eda0>"
      ]
     },
     "execution_count": 11,
     "metadata": {},
     "output_type": "execute_result"
    }
   ],
   "source": [
    "inputs = keras.Input(shape=(784,), name='digits')\n",
    "x1 = layers.Dense(64, activation='relu', name='dense_1')(inputs)\n",
    "x2 = layers.Dense(64, activation='relu', name='dense_2')(x1)\n",
    "outputs = layers.Dense(10, activation='softmax', name='predictions')(x2)\n",
    "model = keras.Model(inputs=inputs, outputs=outputs)\n",
    "\n",
    "model.add_loss(tf.reduce_sum(x1) * 0.1)\n",
    "\n",
    "model.add_metric(keras.backend.std(x1),\n",
    "                 name='std_of_activation',\n",
    "                 aggregation='mean')\n",
    "\n",
    "model.compile(optimizer=keras.optimizers.RMSprop(1e-3),\n",
    "              loss='sparse_categorical_crossentropy')\n",
    "model.fit(x_train, y_train,\n",
    "          batch_size=64,\n",
    "          epochs=1)"
   ]
  },
  {
   "cell_type": "markdown",
   "metadata": {
    "colab_type": "text",
    "id": "sJqpjGyMAa82"
   },
   "source": [
    "\n",
    "#### Automatically setting apart a validation holdout set\n",
    "\n",
    "In the first end-to-end example you saw, we used the `validation_data` argument to pass a tuple\n",
    "of Numpy arrays `(x_val, y_val)` to the model for evaluating a validation loss and validation metrics at the end of each epoch.\n",
    "\n",
    "Here's another option: the argument `validation_split` allows you to automatically reserve part of your training data for validation. The argument value represents the fraction of the data to be reserved for validation, so it should be set to a number higher than 0 and lower than 1. For instance, `validation_split=0.2` means \"use 20% of the data for validation\", and `validation_split=0.6` means \"use 60% of the data for validation\".\n",
    "\n",
    "The way the validation is computed is by *taking the last x% samples of the arrays received by the `fit` call, before any shuffling*.\n",
    "\n",
    "You can only use `validation_split` when training with Numpy data."
   ]
  },
  {
   "cell_type": "code",
   "execution_count": 12,
   "metadata": {
    "colab": {},
    "colab_type": "code",
    "id": "Z-DQyeRePYS-"
   },
   "outputs": [
    {
     "name": "stdout",
     "output_type": "stream",
     "text": [
      "Train on 40000 samples, validate on 10000 samples\n",
      "Epoch 1/3\n",
      "40000/40000 [==============================] - 2s 54us/sample - loss: 0.3691 - sparse_categorical_accuracy: 0.8936 - val_loss: 0.2259 - val_sparse_categorical_accuracy: 0.9317\n",
      "Epoch 2/3\n",
      "40000/40000 [==============================] - 2s 51us/sample - loss: 0.1713 - sparse_categorical_accuracy: 0.9491 - val_loss: 0.1774 - val_sparse_categorical_accuracy: 0.9489\n",
      "Epoch 3/3\n",
      "40000/40000 [==============================] - 2s 49us/sample - loss: 0.1248 - sparse_categorical_accuracy: 0.9624 - val_loss: 0.1538 - val_sparse_categorical_accuracy: 0.9532\n"
     ]
    },
    {
     "data": {
      "text/plain": [
       "<tensorflow.python.keras.callbacks.History at 0x7f9a70786cf8>"
      ]
     },
     "execution_count": 12,
     "metadata": {},
     "output_type": "execute_result"
    }
   ],
   "source": [
    "model = get_compiled_model()\n",
    "model.fit(x_train, y_train, batch_size=64, validation_split=0.2, epochs=3)"
   ]
  },
  {
   "cell_type": "markdown",
   "metadata": {
    "colab_type": "text",
    "id": "Uq0TDb15DBbc"
   },
   "source": [
    "### Training & evaluation from tf.data Datasets\n",
    "\n",
    "In the past few paragraphs, you've seen how to handle losses, metrics, and optimizers, and you've seen how to use the `validation_data` and `validation_split` arguments in `fit`, when your data is passed as Numpy arrays.\n",
    "\n",
    "Let's now take a look at the case where your data comes in the form of a tf.data Dataset.\n",
    "\n",
    "The tf.data API is a set of utilities in TensorFlow 2.0 for loading and preprocessing data in a way that's fast and scalable.\n",
    "\n",
    "For a complete guide about creating Datasets, see [the tf.data documentation](https://www.tensorflow.org/versions/r2.0/api_docs/python/tf).\n",
    "\n",
    "You can pass a Dataset instance directly to the methods `fit()`, `evaluate()`, and `predict()`:"
   ]
  },
  {
   "cell_type": "code",
   "execution_count": 13,
   "metadata": {
    "colab": {},
    "colab_type": "code",
    "id": "iY27EJsmENBj"
   },
   "outputs": [
    {
     "name": "stdout",
     "output_type": "stream",
     "text": [
      "Epoch 1/3\n",
      "782/782 [==============================] - 3s 4ms/step - loss: 0.3359 - sparse_categorical_accuracy: 0.9052\n",
      "Epoch 2/3\n",
      "782/782 [==============================] - 3s 4ms/step - loss: 0.1604 - sparse_categorical_accuracy: 0.9525\n",
      "Epoch 3/3\n",
      "782/782 [==============================] - 3s 4ms/step - loss: 0.1165 - sparse_categorical_accuracy: 0.9657\n",
      "\n",
      "# Evaluate\n",
      "157/157 [==============================] - 0s 3ms/step - loss: 0.1391 - sparse_categorical_accuracy: 0.9594\n"
     ]
    },
    {
     "data": {
      "text/plain": [
       "[0.13907333947035966, 0.9594]"
      ]
     },
     "execution_count": 13,
     "metadata": {},
     "output_type": "execute_result"
    }
   ],
   "source": [
    "model = get_compiled_model()\n",
    "\n",
    "# First, let's create a training Dataset instance.\n",
    "# For the sake of our example, we'll use the same MNIST data as before.\n",
    "train_dataset = tf.data.Dataset.from_tensor_slices((x_train, y_train))\n",
    "# Shuffle and slice the dataset.\n",
    "train_dataset = train_dataset.shuffle(buffer_size=1024).batch(64)\n",
    "\n",
    "# Now we get a test dataset.\n",
    "test_dataset = tf.data.Dataset.from_tensor_slices((x_test, y_test))\n",
    "test_dataset = test_dataset.batch(64)\n",
    "\n",
    "# Since the dataset already takes care of batching,\n",
    "# we don't pass a `batch_size` argument.\n",
    "model.fit(train_dataset, epochs=3)\n",
    "\n",
    "# You can also evaluate or predict on a dataset.\n",
    "print('\\n# Evaluate')\n",
    "model.evaluate(test_dataset)"
   ]
  },
  {
   "cell_type": "markdown",
   "metadata": {
    "colab_type": "text",
    "id": "r2yh2h79ENUy"
   },
   "source": [
    "Note that the Dataset is reset at the end of each epoch, so it can be reused of the next epoch.\n",
    "\n",
    "If you want to run training only on a specific number of batches from this Dataset, you can pass the `steps_per_epoch` argument, which specifies how many training steps the model should run using this Dataset before moving on to the next epoch.\n",
    "\n",
    "If you do this, the dataset is not reset at the end of each epoch, instead we just keep drawing the next batches. The dataset will eventually run out of data (unless it is an infinitely-looping dataset)."
   ]
  },
  {
   "cell_type": "code",
   "execution_count": 14,
   "metadata": {
    "colab": {},
    "colab_type": "code",
    "id": "7t0V6K_EEdB7"
   },
   "outputs": [
    {
     "name": "stdout",
     "output_type": "stream",
     "text": [
      "Epoch 1/3\n",
      "100/100 [==============================] - 1s 10ms/step - loss: 0.7992 - sparse_categorical_accuracy: 0.7950\n",
      "Epoch 2/3\n",
      "100/100 [==============================] - 0s 4ms/step - loss: 0.3287 - sparse_categorical_accuracy: 0.9050\n",
      "Epoch 3/3\n",
      "100/100 [==============================] - 0s 4ms/step - loss: 0.2486 - sparse_categorical_accuracy: 0.9298\n"
     ]
    },
    {
     "data": {
      "text/plain": [
       "<tensorflow.python.keras.callbacks.History at 0x7f9a702f2c88>"
      ]
     },
     "execution_count": 14,
     "metadata": {},
     "output_type": "execute_result"
    }
   ],
   "source": [
    "model = get_compiled_model()\n",
    "\n",
    "# Prepare the training dataset\n",
    "train_dataset = tf.data.Dataset.from_tensor_slices((x_train, y_train))\n",
    "train_dataset = train_dataset.shuffle(buffer_size=1024).batch(64)\n",
    "\n",
    "# Only use the 100 batches per epoch (that's 64 * 100 samples)\n",
    "model.fit(train_dataset.take(100), epochs=3)"
   ]
  },
  {
   "cell_type": "markdown",
   "metadata": {
    "colab_type": "text",
    "id": "_e3b3rSmC-fL"
   },
   "source": [
    "#### Using a validation dataset\n",
    "\n",
    "You can pass a Dataset instance as the `validation_data` argument in `fit`:"
   ]
  },
  {
   "cell_type": "code",
   "execution_count": 15,
   "metadata": {
    "colab": {},
    "colab_type": "code",
    "id": "pv_53VE2C-11"
   },
   "outputs": [
    {
     "name": "stdout",
     "output_type": "stream",
     "text": [
      "Epoch 1/3\n",
      "782/782 [==============================] - 4s 5ms/step - loss: 0.3313 - sparse_categorical_accuracy: 0.9053 - val_loss: 0.1781 - val_sparse_categorical_accuracy: 0.9501\n",
      "Epoch 2/3\n",
      "782/782 [==============================] - 3s 4ms/step - loss: 0.1588 - sparse_categorical_accuracy: 0.9522 - val_loss: 0.1456 - val_sparse_categorical_accuracy: 0.9581\n",
      "Epoch 3/3\n",
      "782/782 [==============================] - 3s 4ms/step - loss: 0.1161 - sparse_categorical_accuracy: 0.9660 - val_loss: 0.1228 - val_sparse_categorical_accuracy: 0.9653\n"
     ]
    },
    {
     "data": {
      "text/plain": [
       "<tensorflow.python.keras.callbacks.History at 0x7f9a702e1c50>"
      ]
     },
     "execution_count": 15,
     "metadata": {},
     "output_type": "execute_result"
    }
   ],
   "source": [
    "model = get_compiled_model()\n",
    "\n",
    "# Prepare the training dataset\n",
    "train_dataset = tf.data.Dataset.from_tensor_slices((x_train, y_train))\n",
    "train_dataset = train_dataset.shuffle(buffer_size=1024).batch(64)\n",
    "\n",
    "# Prepare the validation dataset\n",
    "val_dataset = tf.data.Dataset.from_tensor_slices((x_val, y_val))\n",
    "val_dataset = val_dataset.batch(64)\n",
    "\n",
    "model.fit(train_dataset, epochs=3, validation_data=val_dataset)"
   ]
  },
  {
   "cell_type": "markdown",
   "metadata": {
    "colab_type": "text",
    "id": "J2Z7pgmSC7Zk"
   },
   "source": [
    "At the end of each epoch, the model will iterate over the validation Dataset and compute the validation loss and validation metrics.\n",
    "\n",
    "If you want to run validation only on a specific number of batches from this Dataset, you can pass the `validation_steps` argument, which specifies how many validation steps the model should run with the validation Dataset before interrupting validation and moving on to the next epoch:"
   ]
  },
  {
   "cell_type": "code",
   "execution_count": 16,
   "metadata": {
    "colab": {},
    "colab_type": "code",
    "id": "eGa4DQA0C8Mu"
   },
   "outputs": [
    {
     "name": "stdout",
     "output_type": "stream",
     "text": [
      "Epoch 1/3\n",
      "782/782 [==============================] - 3s 4ms/step - loss: 0.3350 - sparse_categorical_accuracy: 0.9040 - val_loss: 0.2772 - val_sparse_categorical_accuracy: 0.9281\n",
      "Epoch 2/3\n",
      "782/782 [==============================] - 3s 4ms/step - loss: 0.1592 - sparse_categorical_accuracy: 0.9532 - val_loss: 0.1846 - val_sparse_categorical_accuracy: 0.9406\n",
      "Epoch 3/3\n",
      "782/782 [==============================] - 3s 4ms/step - loss: 0.1165 - sparse_categorical_accuracy: 0.9656 - val_loss: 0.1567 - val_sparse_categorical_accuracy: 0.9469\n"
     ]
    },
    {
     "data": {
      "text/plain": [
       "<tensorflow.python.keras.callbacks.History at 0x7f9a70072550>"
      ]
     },
     "execution_count": 16,
     "metadata": {},
     "output_type": "execute_result"
    }
   ],
   "source": [
    "model = get_compiled_model()\n",
    "\n",
    "# Prepare the training dataset\n",
    "train_dataset = tf.data.Dataset.from_tensor_slices((x_train, y_train))\n",
    "train_dataset = train_dataset.shuffle(buffer_size=1024).batch(64)\n",
    "\n",
    "# Prepare the validation dataset\n",
    "val_dataset = tf.data.Dataset.from_tensor_slices((x_val, y_val))\n",
    "val_dataset = val_dataset.batch(64)\n",
    "\n",
    "model.fit(train_dataset, epochs=3,\n",
    "          # Only run validation using the first 10 batches of the dataset\n",
    "          # using the `validation_steps` argument\n",
    "          validation_data=val_dataset, validation_steps=10)"
   ]
  },
  {
   "cell_type": "markdown",
   "metadata": {
    "colab_type": "text",
    "id": "6qo-fWETC4sD"
   },
   "source": [
    "Note that the validation Dataset will be reset after each use (so that you will always be evaluating on the same samples from epoch to epoch).\n",
    "\n",
    "The argument `validation_split` (generating a holdout set from the training data) is not supported when training from Dataset objects, since this features requires the ability to index the samples of the datasets, which is not possible in general with the Dataset API."
   ]
  },
  {
   "cell_type": "markdown",
   "metadata": {
    "colab_type": "text",
    "id": "cIGt6NNqC2ZR"
   },
   "source": [
    "\n",
    "### Other input formats supported\n",
    "\n",
    "Besides Numpy arrays and TensorFlow Datasets, it's possible to train a Keras model using Pandas dataframes, or from Python generators that yield batches.\n",
    "\n",
    "In general, we recommend that you use Numpy input data if your data is small and fits in memory, and Datasets otherwise."
   ]
  },
  {
   "cell_type": "markdown",
   "metadata": {
    "colab_type": "text",
    "id": "Bid1XnTl_zNT"
   },
   "source": [
    "### Using sample weighting and class weighting\n",
    "\n",
    "Besides input data and target data, it is possible to pass sample weights or class weights to a model when using `fit`:\n",
    "\n",
    "- When training from Numpy data: via the `sample_weight` and `class_weight` arguments.\n",
    "- When training from Datasets: by having the Dataset return a tuple `(input_batch, target_batch, sample_weight_batch)` .\n",
    "\n",
    "A \"sample weights\" array is an array of numbers that specify how much weight each sample in a batch should have in computing the total loss. It is commonly used in imbalanced classification problems (the idea being to give more weight to rarely-seen classes). When the weights used are ones and zeros, the array can be used as a *mask* for the loss function (entirely discarding the contribution of certain samples to the total loss).\n",
    "\n",
    "A \"class weights\" dict is a more specific instance of the same concept: it maps class indices to the sample weight that should be used for samples belonging to this class. For instance, if class \"0\" is twice less represented than class \"1\" in your data, you could use `class_weight={0: 1., 1: 0.5}`."
   ]
  },
  {
   "cell_type": "markdown",
   "metadata": {
    "colab_type": "text",
    "id": "rbH4jT5Hp_gg"
   },
   "source": [
    "Here's a Numpy example where we use class weights or sample weights to give more importance to the correct classification of class #5 (which is the digit \"5\" in the MNIST dataset)."
   ]
  },
  {
   "cell_type": "code",
   "execution_count": 17,
   "metadata": {
    "colab": {},
    "colab_type": "code",
    "id": "0Y7QBNUXWTva"
   },
   "outputs": [
    {
     "name": "stdout",
     "output_type": "stream",
     "text": [
      "Train on 50000 samples\n",
      "Epoch 1/4\n",
      "50000/50000 [==============================] - 3s 51us/sample - loss: 0.1050 - sparse_categorical_accuracy: 0.9713\n",
      "Epoch 2/4\n",
      "50000/50000 [==============================] - 2s 47us/sample - loss: 0.0893 - sparse_categorical_accuracy: 0.9747\n",
      "Epoch 3/4\n",
      "50000/50000 [==============================] - 2s 47us/sample - loss: 0.0749 - sparse_categorical_accuracy: 0.9794\n",
      "Epoch 4/4\n",
      "50000/50000 [==============================] - 2s 46us/sample - loss: 0.0656 - sparse_categorical_accuracy: 0.9818\n",
      "Train on 50000 samples\n",
      "Epoch 1/4\n",
      "50000/50000 [==============================] - 3s 51us/sample - loss: 0.3760 - sparse_categorical_accuracy: 0.8985\n",
      "Epoch 2/4\n",
      "50000/50000 [==============================] - 2s 47us/sample - loss: 0.1739 - sparse_categorical_accuracy: 0.9519\n",
      "Epoch 3/4\n",
      "50000/50000 [==============================] - 2s 47us/sample - loss: 0.1251 - sparse_categorical_accuracy: 0.9645\n",
      "Epoch 4/4\n",
      "50000/50000 [==============================] - 2s 47us/sample - loss: 0.1004 - sparse_categorical_accuracy: 0.9708\n"
     ]
    },
    {
     "data": {
      "text/plain": [
       "<tensorflow.python.keras.callbacks.History at 0x7f9640eb9eb8>"
      ]
     },
     "execution_count": 17,
     "metadata": {},
     "output_type": "execute_result"
    }
   ],
   "source": [
    "import numpy as np\n",
    "\n",
    "class_weight = {0: 1., 1: 1., 2: 1., 3: 1., 4: 1.,\n",
    "                # Set weight \"2\" for class \"5\",\n",
    "                # making this class 2x more important\n",
    "                5: 2.,\n",
    "                6: 1., 7: 1., 8: 1., 9: 1.}\n",
    "model.fit(x_train, y_train,\n",
    "          class_weight=class_weight,\n",
    "          batch_size=64,\n",
    "          epochs=4)\n",
    "\n",
    "# Here's the same example using `sample_weight` instead:\n",
    "sample_weight = np.ones(shape=(len(y_train),))\n",
    "sample_weight[y_train == 5] = 2.\n",
    "\n",
    "model = get_compiled_model()\n",
    "model.fit(x_train, y_train,\n",
    "          sample_weight=sample_weight,\n",
    "          batch_size=64,\n",
    "          epochs=4)"
   ]
  },
  {
   "cell_type": "markdown",
   "metadata": {
    "colab_type": "text",
    "id": "Qf1KvM0pqBaV"
   },
   "source": [
    "Here's a matching Dataset example:"
   ]
  },
  {
   "cell_type": "code",
   "execution_count": 18,
   "metadata": {
    "colab": {},
    "colab_type": "code",
    "id": "LHD60GshxSpf"
   },
   "outputs": [
    {
     "name": "stdout",
     "output_type": "stream",
     "text": [
      "Epoch 1/3\n",
      "782/782 [==============================] - 4s 5ms/step - loss: 0.3624 - sparse_categorical_accuracy: 0.9037\n",
      "Epoch 2/3\n",
      "782/782 [==============================] - 3s 4ms/step - loss: 0.1745 - sparse_categorical_accuracy: 0.9523\n",
      "Epoch 3/3\n",
      "782/782 [==============================] - 3s 4ms/step - loss: 0.1293 - sparse_categorical_accuracy: 0.9645\n"
     ]
    },
    {
     "data": {
      "text/plain": [
       "<tensorflow.python.keras.callbacks.History at 0x7f96409794e0>"
      ]
     },
     "execution_count": 18,
     "metadata": {},
     "output_type": "execute_result"
    }
   ],
   "source": [
    "sample_weight = np.ones(shape=(len(y_train),))\n",
    "sample_weight[y_train == 5] = 2.\n",
    "\n",
    "# Create a Dataset that includes sample weights\n",
    "# (3rd element in the return tuple).\n",
    "train_dataset = tf.data.Dataset.from_tensor_slices(\n",
    "    (x_train, y_train, sample_weight))\n",
    "\n",
    "# Shuffle and slice the dataset.\n",
    "train_dataset = train_dataset.shuffle(buffer_size=1024).batch(64)\n",
    "\n",
    "model = get_compiled_model()\n",
    "model.fit(train_dataset, epochs=3)"
   ]
  },
  {
   "cell_type": "markdown",
   "metadata": {
    "colab_type": "text",
    "id": "jXt0xQvDxMeq"
   },
   "source": [
    "### Passing data to multi-input, multi-output models\n",
    "\n",
    "In the previous examples, we were considering a model with a single input (a tensor of shape `(764,)`) and a single output (a prediction tensor of shape `(10,)`). But what about models that have multiple inputs or outputs?\n",
    "\n",
    "Consider the following model, which has an image input of shape `(32, 32, 3)` (that's `(height, width, channels)`) and a timeseries input of shape `(None, 10)` (that's `(timesteps, features)`). Our model will have two outputs computed from the combination of these inputs: a \"score\" (of shape `(1,)`) and a probability distribution over 5 classes (of shape `(10,)`).\n"
   ]
  },
  {
   "cell_type": "code",
   "execution_count": 19,
   "metadata": {
    "colab": {},
    "colab_type": "code",
    "id": "QNUSGfKq1cZ-"
   },
   "outputs": [],
   "source": [
    "from tensorflow import keras\n",
    "from tensorflow.keras import layers\n",
    "\n",
    "image_input = keras.Input(shape=(32, 32, 3), name='img_input')\n",
    "timeseries_input = keras.Input(shape=(None, 10), name='ts_input')\n",
    "\n",
    "x1 = layers.Conv2D(3, 3)(image_input)\n",
    "x1 = layers.GlobalMaxPooling2D()(x1)\n",
    "\n",
    "x2 = layers.Conv1D(3, 3)(timeseries_input)\n",
    "x2 = layers.GlobalMaxPooling1D()(x2)\n",
    "\n",
    "x = layers.concatenate([x1, x2])\n",
    "\n",
    "score_output = layers.Dense(1, name='score_output')(x)\n",
    "class_output = layers.Dense(5, activation='softmax', name='class_output')(x)\n",
    "\n",
    "model = keras.Model(inputs=[image_input, timeseries_input],\n",
    "                    outputs=[score_output, class_output])"
   ]
  },
  {
   "cell_type": "markdown",
   "metadata": {
    "colab_type": "text",
    "id": "cIWhMd7p3NGp"
   },
   "source": [
    "Let's plot this model, so you can clearly see what we're doing here (note that the shapes shown in the plot are batch shapes, rather than per-sample shapes)."
   ]
  },
  {
   "cell_type": "code",
   "execution_count": 20,
   "metadata": {
    "colab": {},
    "colab_type": "code",
    "id": "gKVQ4Y573Q_c"
   },
   "outputs": [
    {
     "data": {
      "image/png": "[encoded data removed]",
      "text/plain": [
       "<IPython.core.display.Image object>"
      ]
     },
     "execution_count": 20,
     "metadata": {},
     "output_type": "execute_result"
    }
   ],
   "source": [
    "keras.utils.plot_model(model, 'multi_input_and_output_model.png', show_shapes=True)"
   ]
  },
  {
   "cell_type": "markdown",
   "metadata": {
    "colab_type": "text",
    "id": "vAauLxiT278G"
   },
   "source": [
    "At compilation time, we can specify different losses to different ouptuts, by passing the loss functions as a list:"
   ]
  },
  {
   "cell_type": "code",
   "execution_count": 21,
   "metadata": {
    "colab": {},
    "colab_type": "code",
    "id": "vDa7JSz93phE"
   },
   "outputs": [],
   "source": [
    "model.compile(\n",
    "    optimizer=keras.optimizers.RMSprop(1e-3),\n",
    "    loss=[keras.losses.MeanSquaredError(),\n",
    "          keras.losses.CategoricalCrossentropy()])"
   ]
  },
  {
   "cell_type": "markdown",
   "metadata": {
    "colab_type": "text",
    "id": "bQip1Fex4-D5"
   },
   "source": [
    "If we only passed a single loss function to the model, the same loss function would be applied to every output, which is not appropriate here.\n",
    "\n",
    "Likewise for metrics:"
   ]
  },
  {
   "cell_type": "code",
   "execution_count": 22,
   "metadata": {
    "colab": {},
    "colab_type": "code",
    "id": "Tkl5LMGi4_gK"
   },
   "outputs": [],
   "source": [
    "model.compile(\n",
    "    optimizer=keras.optimizers.RMSprop(1e-3),\n",
    "    loss=[keras.losses.MeanSquaredError(),\n",
    "          keras.losses.CategoricalCrossentropy()],\n",
    "    metrics=[[keras.metrics.MeanAbsolutePercentageError(),\n",
    "              keras.metrics.MeanAbsoluteError()],\n",
    "             [keras.metrics.CategoricalAccuracy()]])"
   ]
  },
  {
   "cell_type": "markdown",
   "metadata": {
    "colab_type": "text",
    "id": "w_WWk9b1374P"
   },
   "source": [
    "Since we gave names to our output layers, we coud also specify per-output losses and metrics via a dict:"
   ]
  },
  {
   "cell_type": "code",
   "execution_count": 23,
   "metadata": {
    "colab": {},
    "colab_type": "code",
    "id": "1MEctLBD4APc"
   },
   "outputs": [],
   "source": [
    "model.compile(\n",
    "    optimizer=keras.optimizers.RMSprop(1e-3),\n",
    "    loss={'score_output': keras.losses.MeanSquaredError(),\n",
    "          'class_output': keras.losses.CategoricalCrossentropy()},\n",
    "    metrics={'score_output': [keras.metrics.MeanAbsolutePercentageError(),\n",
    "                              keras.metrics.MeanAbsoluteError()],\n",
    "             'class_output': [keras.metrics.CategoricalAccuracy()]})"
   ]
  },
  {
   "cell_type": "markdown",
   "metadata": {
    "colab_type": "text",
    "id": "NVXRX0PX6lIn"
   },
   "source": [
    "We recommend the use of explicit names and dicts if you have more than 2 outputs."
   ]
  },
  {
   "cell_type": "markdown",
   "metadata": {
    "colab_type": "text",
    "id": "RX3FTDWw4BOA"
   },
   "source": [
    "It's possible to give different weights to different output-specific losses (for instance, one might wish to privilege the \"score\" loss in our example, by giving to 2x the importance of the class loss), using the `loss_weight` argument:"
   ]
  },
  {
   "cell_type": "code",
   "execution_count": 24,
   "metadata": {
    "colab": {},
    "colab_type": "code",
    "id": "mgVK3xAv4JNv"
   },
   "outputs": [],
   "source": [
    "model.compile(\n",
    "    optimizer=keras.optimizers.RMSprop(1e-3),\n",
    "    loss={'score_output': keras.losses.MeanSquaredError(),\n",
    "          'class_output': keras.losses.CategoricalCrossentropy()},\n",
    "    metrics={'score_output': [keras.metrics.MeanAbsolutePercentageError(),\n",
    "                              keras.metrics.MeanAbsoluteError()],\n",
    "             'class_output': [keras.metrics.CategoricalAccuracy()]},\n",
    "    loss_weight={'score_output': 2., 'class_output': 1.})"
   ]
  },
  {
   "cell_type": "markdown",
   "metadata": {
    "colab_type": "text",
    "id": "vd8VzIu-3p0n"
   },
   "source": [
    "You could also chose not to compute a loss for certain outputs, if these outputs meant for prediction but not for training:"
   ]
  },
  {
   "cell_type": "code",
   "execution_count": 25,
   "metadata": {
    "colab": {},
    "colab_type": "code",
    "id": "aUyohARI4Kqn"
   },
   "outputs": [
    {
     "name": "stderr",
     "output_type": "stream",
     "text": [
      "W0709 23:08:56.885499 140306293311232 training_utils.py:1237] Output score_output missing from loss dictionary. We assume this was done on purpose. The fit and evaluate APIs will not be expecting any data to be passed to score_output.\n"
     ]
    }
   ],
   "source": [
    "# List loss version\n",
    "model.compile(\n",
    "    optimizer=keras.optimizers.RMSprop(1e-3),\n",
    "    loss=[None, keras.losses.CategoricalCrossentropy()])\n",
    "\n",
    "# Or dict loss version\n",
    "model.compile(\n",
    "    optimizer=keras.optimizers.RMSprop(1e-3),\n",
    "    loss={'class_output': keras.losses.CategoricalCrossentropy()})"
   ]
  },
  {
   "cell_type": "markdown",
   "metadata": {
    "colab_type": "text",
    "id": "n0MwZc184MG_"
   },
   "source": [
    "Passing data to a multi-input or multi-output model in `fit` works in a similar way as specifying a loss function in `compile`:\n",
    "you can pass *lists of Numpy arrays (with 1:1 mapping to the outputs that received a loss function)* or *dicts mapping output names to Numpy arrays of training data*."
   ]
  },
  {
   "cell_type": "code",
   "execution_count": 26,
   "metadata": {
    "colab": {},
    "colab_type": "code",
    "id": "So4cYwSW4la8"
   },
   "outputs": [
    {
     "name": "stdout",
     "output_type": "stream",
     "text": [
      "Train on 100 samples\n",
      "Epoch 1/3\n",
      "100/100 [==============================] - 2s 18ms/sample - loss: 5.4927 - score_output_loss: 0.3011 - class_output_loss: 5.0976\n",
      "Epoch 2/3\n",
      "100/100 [==============================] - 0s 183us/sample - loss: 5.1124 - score_output_loss: 0.1766 - class_output_loss: 4.7647\n",
      "Epoch 3/3\n",
      "100/100 [==============================] - 0s 175us/sample - loss: 4.9297 - score_output_loss: 0.1595 - class_output_loss: 4.6541\n",
      "Train on 100 samples\n",
      "Epoch 1/3\n",
      "100/100 [==============================] - 0s 189us/sample - loss: 4.8052 - score_output_loss: 0.1354 - class_output_loss: 4.6445\n",
      "Epoch 2/3\n",
      "100/100 [==============================] - 0s 173us/sample - loss: 4.6927 - score_output_loss: 0.1694 - class_output_loss: 4.4592\n",
      "Epoch 3/3\n",
      "100/100 [==============================] - 0s 182us/sample - loss: 4.6102 - score_output_loss: 0.1231 - class_output_loss: 4.6108\n"
     ]
    },
    {
     "data": {
      "text/plain": [
       "<tensorflow.python.keras.callbacks.History at 0x7f9b81891978>"
      ]
     },
     "execution_count": 26,
     "metadata": {},
     "output_type": "execute_result"
    }
   ],
   "source": [
    "model.compile(\n",
    "    optimizer=keras.optimizers.RMSprop(1e-3),\n",
    "    loss=[keras.losses.MeanSquaredError(),\n",
    "          keras.losses.CategoricalCrossentropy()])\n",
    "\n",
    "# Generate dummy Numpy data\n",
    "img_data = np.random.random_sample(size=(100, 32, 32, 3))\n",
    "ts_data = np.random.random_sample(size=(100, 20, 10))\n",
    "score_targets = np.random.random_sample(size=(100, 1))\n",
    "class_targets = np.random.random_sample(size=(100, 5))\n",
    "\n",
    "# Fit on lists\n",
    "model.fit([img_data, ts_data], [score_targets, class_targets],\n",
    "          batch_size=32,\n",
    "          epochs=3)\n",
    "\n",
    "# Alernatively, fit on dicts\n",
    "model.fit({'img_input': img_data, 'ts_input': ts_data},\n",
    "          {'score_output': score_targets, 'class_output': class_targets},\n",
    "          batch_size=32,\n",
    "          epochs=3)"
   ]
  },
  {
   "cell_type": "markdown",
   "metadata": {
    "colab_type": "text",
    "id": "m7Ah1QUf4ll6"
   },
   "source": [
    "Here's the Dataset use case: similarly as what we did for Numpy arrays, the Dataset should return\n",
    "a tuple of dicts."
   ]
  },
  {
   "cell_type": "code",
   "execution_count": 27,
   "metadata": {
    "colab": {},
    "colab_type": "code",
    "id": "vx34-FDZ4tdJ"
   },
   "outputs": [
    {
     "name": "stdout",
     "output_type": "stream",
     "text": [
      "Epoch 1/3\n",
      "2/2 [==============================] - 0s 134ms/step - loss: 4.5520 - score_output_loss: 0.1522 - class_output_loss: 4.4045\n",
      "Epoch 2/3\n",
      "2/2 [==============================] - 0s 7ms/step - loss: 4.5169 - score_output_loss: 0.1520 - class_output_loss: 4.3696\n",
      "Epoch 3/3\n",
      "2/2 [==============================] - 0s 6ms/step - loss: 4.4845 - score_output_loss: 0.1518 - class_output_loss: 4.3375\n"
     ]
    },
    {
     "data": {
      "text/plain": [
       "<tensorflow.python.keras.callbacks.History at 0x7f9a700726d8>"
      ]
     },
     "execution_count": 27,
     "metadata": {},
     "output_type": "execute_result"
    }
   ],
   "source": [
    "train_dataset = tf.data.Dataset.from_tensor_slices(\n",
    "    ({'img_input': img_data, 'ts_input': ts_data},\n",
    "     {'score_output': score_targets, 'class_output': class_targets}))\n",
    "train_dataset = train_dataset.shuffle(buffer_size=1024).batch(64)\n",
    "\n",
    "model.fit(train_dataset, epochs=3)"
   ]
  },
  {
   "cell_type": "markdown",
   "metadata": {
    "colab_type": "text",
    "id": "Y_gqVFcHAAga"
   },
   "source": [
    "### Using callbacks\n",
    "\n",
    "Callbacks in Keras are objects that are called at different point during training (at the start of an epoch, at the end of a batch, at the end of an epoch, etc.) and which can be used to implement behaviors such as:\n",
    "\n",
    "- Doing validation at different points during training (beyond the built-in per-epoch validation)\n",
    "- Checkpointing the model at regular intervals or when it exceeds a certain accuracy threshold\n",
    "- Changing the learning rate of the model when training seems to be plateauing\n",
    "- Doing fine-tuning of the top layers when training seems to be plateauing\n",
    "- Sending email or instant message notifications when training ends or where a certain performance threshold is exceeded\n",
    "- Etc.\n",
    "\n",
    "Callbacks can be passed as a list to your call to `fit`:"
   ]
  },
  {
   "cell_type": "code",
   "execution_count": 28,
   "metadata": {
    "colab": {},
    "colab_type": "code",
    "id": "pNEhXWcnSG9B"
   },
   "outputs": [
    {
     "name": "stdout",
     "output_type": "stream",
     "text": [
      "Train on 40000 samples, validate on 10000 samples\n",
      "Epoch 1/20\n",
      "40000/40000 [==============================] - 2s 53us/sample - loss: 0.3709 - sparse_categorical_accuracy: 0.8953 - val_loss: 0.2508 - val_sparse_categorical_accuracy: 0.9252\n",
      "Epoch 2/20\n",
      "40000/40000 [==============================] - 2s 49us/sample - loss: 0.1769 - sparse_categorical_accuracy: 0.9473 - val_loss: 0.1854 - val_sparse_categorical_accuracy: 0.9421\n",
      "Epoch 3/20\n",
      "40000/40000 [==============================] - 2s 49us/sample - loss: 0.1286 - sparse_categorical_accuracy: 0.9604 - val_loss: 0.1520 - val_sparse_categorical_accuracy: 0.9537\n",
      "Epoch 4/20\n",
      "40000/40000 [==============================] - 2s 49us/sample - loss: 0.1021 - sparse_categorical_accuracy: 0.9693 - val_loss: 0.1617 - val_sparse_categorical_accuracy: 0.9512\n",
      "Epoch 5/20\n",
      "40000/40000 [==============================] - 2s 49us/sample - loss: 0.0836 - sparse_categorical_accuracy: 0.9741 - val_loss: 0.1343 - val_sparse_categorical_accuracy: 0.9605\n",
      "Epoch 6/20\n",
      "40000/40000 [==============================] - 2s 49us/sample - loss: 0.0709 - sparse_categorical_accuracy: 0.9782 - val_loss: 0.1346 - val_sparse_categorical_accuracy: 0.9624\n",
      "Epoch 7/20\n",
      "40000/40000 [==============================] - 2s 49us/sample - loss: 0.0598 - sparse_categorical_accuracy: 0.9814 - val_loss: 0.1634 - val_sparse_categorical_accuracy: 0.9580\n",
      "Epoch 00007: early stopping\n"
     ]
    },
    {
     "data": {
      "text/plain": [
       "<tensorflow.python.keras.callbacks.History at 0x7f9b8122f160>"
      ]
     },
     "execution_count": 28,
     "metadata": {},
     "output_type": "execute_result"
    }
   ],
   "source": [
    "model = get_compiled_model()\n",
    "\n",
    "callbacks = [\n",
    "    keras.callbacks.EarlyStopping(\n",
    "        # Stop training when `val_loss` is no longer improving\n",
    "        monitor='val_loss',\n",
    "        # \"no longer improving\" being defined as \"no better than 1e-2 less\"\n",
    "        min_delta=1e-2,\n",
    "        # \"no longer improving\" being further defined as \"for at least 2 epochs\"\n",
    "        patience=2,\n",
    "        verbose=1)\n",
    "]\n",
    "model.fit(x_train, y_train,\n",
    "          epochs=20,\n",
    "          batch_size=64,\n",
    "          callbacks=callbacks,\n",
    "          validation_split=0.2)"
   ]
  },
  {
   "cell_type": "markdown",
   "metadata": {
    "colab_type": "text",
    "id": "PE3VK3WpSHL_"
   },
   "source": [
    "#### Many built-in callbacks are available\n",
    "\n",
    "- `ModelCheckpoint`: Periodically save the model.\n",
    "- `EarlyStopping`: Stop training when training is no longer improving the validation metrics.\n",
    "- `TensorBoard`: periodically write model logs that can be visualized in TensorBoard (more details in the section \"Visualization\").\n",
    "- `CSVLogger`: streams loss and metrics data to a CSV file.\n",
    "- etc.\n",
    "\n",
    "\n",
    "\n",
    "#### Writing your own callback\n",
    "\n",
    "You can create a custom callback by extending the base class keras.callbacks.Callback. A callback has access to its associated model through the class property `self.model`.\n",
    "\n",
    "Here's a simple example saving a list of per-batch loss values during training:\n",
    "\n",
    "```python\n",
    "class LossHistory(keras.callbacks.Callback):\n",
    "\n",
    "    def on_train_begin(self, logs):\n",
    "        self.losses = []\n",
    "\n",
    "    def on_batch_end(self, batch, logs):\n",
    "        self.losses.append(logs.get('loss'))\n",
    "```"
   ]
  },
  {
   "cell_type": "markdown",
   "metadata": {
    "colab_type": "text",
    "id": "mC08S-e-yOd7"
   },
   "source": [
    "### Checkpointing models\n",
    "\n",
    "When you're training model on relatively large datasets, it's crucial to save checkpoints of your model at frequent intervals.\n",
    "\n",
    "The easiest way to achieve this is with the `ModelCheckpoint` callback:"
   ]
  },
  {
   "cell_type": "code",
   "execution_count": 29,
   "metadata": {
    "colab": {},
    "colab_type": "code",
    "id": "yEER-qc-xXNC"
   },
   "outputs": [
    {
     "name": "stdout",
     "output_type": "stream",
     "text": [
      "Train on 40000 samples, validate on 10000 samples\n",
      "Epoch 1/3\n",
      "39872/40000 [============================>.] - ETA: 0s - loss: 0.3799 - sparse_categorical_accuracy: 0.8915\n",
      "Epoch 00001: val_loss improved from inf to 0.23190, saving model to mymodel_1.h5\n",
      "40000/40000 [==============================] - 2s 54us/sample - loss: 0.3796 - sparse_categorical_accuracy: 0.8914 - val_loss: 0.2319 - val_sparse_categorical_accuracy: 0.9292\n",
      "Epoch 2/3\n",
      "39680/40000 [============================>.] - ETA: 0s - loss: 0.1784 - sparse_categorical_accuracy: 0.9466\n",
      "Epoch 00002: val_loss improved from 0.23190 to 0.18546, saving model to mymodel_2.h5\n",
      "40000/40000 [==============================] - 2s 51us/sample - loss: 0.1784 - sparse_categorical_accuracy: 0.9467 - val_loss: 0.1855 - val_sparse_categorical_accuracy: 0.9424\n",
      "Epoch 3/3\n",
      "38848/40000 [============================>.] - ETA: 0s - loss: 0.1322 - sparse_categorical_accuracy: 0.9598\n",
      "Epoch 00003: val_loss improved from 0.18546 to 0.16810, saving model to mymodel_3.h5\n",
      "40000/40000 [==============================] - 2s 50us/sample - loss: 0.1316 - sparse_categorical_accuracy: 0.9598 - val_loss: 0.1681 - val_sparse_categorical_accuracy: 0.9471\n"
     ]
    },
    {
     "data": {
      "text/plain": [
       "<tensorflow.python.keras.callbacks.History at 0x7f9b8098c4a8>"
      ]
     },
     "execution_count": 29,
     "metadata": {},
     "output_type": "execute_result"
    }
   ],
   "source": [
    "model = get_compiled_model()\n",
    "\n",
    "callbacks = [\n",
    "    keras.callbacks.ModelCheckpoint(\n",
    "        filepath='mymodel_{epoch}.h5',\n",
    "        # Path where to save the model\n",
    "        # The two parameters below mean that we will overwrite\n",
    "        # the current checkpoint if and only if\n",
    "        # the `val_loss` score has improved.\n",
    "        save_best_only=True,\n",
    "        monitor='val_loss',\n",
    "        verbose=1)\n",
    "]\n",
    "model.fit(x_train, y_train,\n",
    "          epochs=3,\n",
    "          batch_size=64,\n",
    "          callbacks=callbacks,\n",
    "          validation_split=0.2)"
   ]
  },
  {
   "cell_type": "markdown",
   "metadata": {
    "colab_type": "text",
    "id": "E1AZEf3ixXm8"
   },
   "source": [
    "You call also write your own callback for saving and restoring models.\n",
    "\n",
    "For a complete guide on serialization and saving, see [Guide to Saving and Serializing Models](./saving_and_serializing.ipynb)."
   ]
  },
  {
   "cell_type": "markdown",
   "metadata": {
    "colab_type": "text",
    "id": "j22FtN-z_-Wj"
   },
   "source": [
    "### Using learning rate schedules\n",
    "\n",
    "A common pattern when training deep learning models is to gradually reduce the learning as training progresses. This is generally known as \"learning rate decay\".\n",
    "\n",
    "The learning decay schedule could be static (fixed in advance, as a function of the current epoch or the current batch index), or dynamic (responding to the current behavior of the model, in particular the validation loss).\n",
    "\n",
    "#### Passing a schedule to an optimizer\n",
    "\n",
    "You can easily use a static learning rate decay schedule by passing a schedule object as the `learning_rate` argument in your optimizer:\n"
   ]
  },
  {
   "cell_type": "code",
   "execution_count": 30,
   "metadata": {
    "colab": {},
    "colab_type": "code",
    "id": "Cu-pnB_ctEav"
   },
   "outputs": [],
   "source": [
    "initial_learning_rate = 0.1\n",
    "lr_schedule = keras.optimizers.schedules.ExponentialDecay(\n",
    "    initial_learning_rate,\n",
    "    decay_steps=100000,\n",
    "    decay_rate=0.96,\n",
    "    staircase=True)\n",
    "\n",
    "optimizer = keras.optimizers.RMSprop(learning_rate=lr_schedule)"
   ]
  },
  {
   "cell_type": "markdown",
   "metadata": {
    "colab_type": "text",
    "id": "9Ltf0Xtrtw-2"
   },
   "source": [
    "Several built-in schedules are available: `ExponentialDecay`, `PiecewiseConstantDecay`, `PolynomialDecay`, and `InverseTimeDecay`."
   ]
  },
  {
   "cell_type": "markdown",
   "metadata": {
    "colab_type": "text",
    "id": "13CvYhBptEjh"
   },
   "source": [
    "#### Using callbacks to implement a dynamic learning rate schedule\n",
    "\n",
    "A dynamic learning rate schedule (for instance, decreasing the learning rate when the validation loss is no longer improving) cannot be achieved with these schedule objects since the optimizer does not have access to validation metrics.\n",
    "\n",
    "However, callbacks do have access to all metrics, including validation metrics! You can thus achieve this pattern by using a callback that modifies the current learning rate on the optimizer. In fact, this is even built-in as the `ReduceLROnPlateau` callback."
   ]
  },
  {
   "cell_type": "markdown",
   "metadata": {
    "colab_type": "text",
    "id": "tnUhGslABdvx"
   },
   "source": [
    "### Visualizing loss and metrics during training\n",
    "\n",
    "The best way to keep an eye on your model during training is to use [TensorBoard](https://www.tensorflow.org/tensorboard), a browser-based application that you can run locally that provides you with:\n",
    "\n",
    "- Live plots of the loss and metrics for training and evaluation\n",
    "- (optionally) Visualizations of the histograms of your layer activations\n",
    "- (optionally) 3D visualizations of the embedding spaces learned by your `Embedding` layers\n",
    "\n",
    "If you have installed TensorFlow with pip, you should be able to launch TensorBoard from the command line:\n",
    "\n",
    "```\n",
    "tensorboard --logdir=/full_path_to_your_logs\n",
    "```\n",
    "\n",
    "#### Using the TensorBoard callback\n",
    "\n",
    "The easiest way to use TensorBoard with a Keras model and the `fit` method is the `TensorBoard` callback.\n",
    "\n",
    "In the simplest case, just specify where you want the callback to write logs, and you're good to go:\n",
    "\n",
    "```python\n",
    "tensorboard_cbk = keras.callbacks.TensorBoard(log_dir='/full_path_to_your_logs')\n",
    "model.fit(dataset, epochs=10, callbacks=[tensorboard_cbk])\n",
    "```\n",
    "\n",
    "The `TensorBoard` callback has many useful options, including whether to log embeddings, histograms, and how often to write logs:\n",
    "\n",
    "```python\n",
    "keras.callbacks.TensorBoard(\n",
    "  log_dir='/full_path_to_your_logs',\n",
    "  histogram_freq=0,  # How often to log histogram visualizations\n",
    "  embeddings_freq=0,  # How often to log embedding visualizations\n",
    "  update_freq='epoch')  # How often to write logs (default: once per epoch)\n",
    "```\n",
    "\n"
   ]
  },
  {
   "cell_type": "markdown",
   "metadata": {
    "colab_type": "text",
    "id": "5r5ZnFry7-B7"
   },
   "source": [
    "## Part II: Writing your own training & evaluation loops from scratch\n",
    "\n",
    "If you want lower-level over your training & evaluation loops than what `fit()` and `evaluate()` provide, you should write your own. It's actually pretty simple! But you should be ready to have a lot more debugging to do on your own."
   ]
  },
  {
   "cell_type": "markdown",
   "metadata": {
    "colab_type": "text",
    "id": "HaRvt057_37D"
   },
   "source": [
    "### Using the GradientTape: a first end-to-end example\n",
    "\n",
    "Calling a model inside a `GradientTape` scope enables you to retrieve the gradients of the trainable weights of the layer with respect to a loss value. Using an optimizer instance, you can use these gradients to update these variables (which you can retrieve using `model.trainable_weights`).\n",
    "\n",
    "Let's reuse our initial MNIST model from Part I, and let's train it using mini-batch gradient with a custom training loop."
   ]
  },
  {
   "cell_type": "code",
   "execution_count": 31,
   "metadata": {
    "colab": {},
    "colab_type": "code",
    "id": "XQqxREEL66Kg"
   },
   "outputs": [
    {
     "name": "stdout",
     "output_type": "stream",
     "text": [
      "Start of epoch 0\n",
      "Training loss (for one batch) at step 0: 2.328260898590088\n",
      "Seen so far: 64 samples\n",
      "Training loss (for one batch) at step 200: 2.2065062522888184\n",
      "Seen so far: 12864 samples\n",
      "Training loss (for one batch) at step 400: 2.195256233215332\n",
      "Seen so far: 25664 samples\n",
      "Training loss (for one batch) at step 600: 2.076472759246826\n",
      "Seen so far: 38464 samples\n",
      "Start of epoch 1\n",
      "Training loss (for one batch) at step 0: 1.9912480115890503\n",
      "Seen so far: 64 samples\n",
      "Training loss (for one batch) at step 200: 1.8522553443908691\n",
      "Seen so far: 12864 samples\n",
      "Training loss (for one batch) at step 400: 1.875749111175537\n",
      "Seen so far: 25664 samples\n",
      "Training loss (for one batch) at step 600: 1.7228761911392212\n",
      "Seen so far: 38464 samples\n",
      "Start of epoch 2\n",
      "Training loss (for one batch) at step 0: 1.6132235527038574\n",
      "Seen so far: 64 samples\n",
      "Training loss (for one batch) at step 200: 1.4666979312896729\n",
      "Seen so far: 12864 samples\n",
      "Training loss (for one batch) at step 400: 1.4932750463485718\n",
      "Seen so far: 25664 samples\n",
      "Training loss (for one batch) at step 600: 1.3333444595336914\n",
      "Seen so far: 38464 samples\n"
     ]
    }
   ],
   "source": [
    "# Get the model.\n",
    "inputs = keras.Input(shape=(784,), name='digits')\n",
    "x = layers.Dense(64, activation='relu', name='dense_1')(inputs)\n",
    "x = layers.Dense(64, activation='relu', name='dense_2')(x)\n",
    "outputs = layers.Dense(10, activation='softmax', name='predictions')(x)\n",
    "model = keras.Model(inputs=inputs, outputs=outputs)\n",
    "\n",
    "# Instantiate an optimizer.\n",
    "optimizer = keras.optimizers.SGD(learning_rate=1e-3)\n",
    "# Instantiate a loss function.\n",
    "loss_fn = keras.losses.SparseCategoricalCrossentropy()\n",
    "\n",
    "# Prepare the training dataset.\n",
    "batch_size = 64\n",
    "train_dataset = tf.data.Dataset.from_tensor_slices((x_train, y_train))\n",
    "train_dataset = train_dataset.shuffle(buffer_size=1024).batch(batch_size)\n",
    "\n",
    "# Iterate over epochs.\n",
    "for epoch in range(3):\n",
    "  print('Start of epoch %d' % (epoch,))\n",
    "\n",
    "  # Iterate over the batches of the dataset.\n",
    "  for step, (x_batch_train, y_batch_train) in enumerate(train_dataset):\n",
    "\n",
    "    # Open a GradientTape to record the operations run\n",
    "    # during the forward pass, which enables autodifferentiation.\n",
    "    with tf.GradientTape() as tape:\n",
    "\n",
    "      # Run the forward pass of the layer.\n",
    "      # The operations that the layer applies\n",
    "      # to its inputs are going to be recorded\n",
    "      # on the GradientTape.\n",
    "      logits = model(x_batch_train)  # Logits for this minibatch\n",
    "\n",
    "      # Compute the loss value for this minibatch.\n",
    "      loss_value = loss_fn(y_batch_train, logits)\n",
    "\n",
    "    # Use the gradient tape to automatically retrieve\n",
    "    # the gradients of the trainable variables with respect to the loss.\n",
    "    grads = tape.gradient(loss_value, model.trainable_weights)\n",
    "\n",
    "    # Run one step of gradient descent by updating\n",
    "    # the value of the variables to minimize the loss.\n",
    "    optimizer.apply_gradients(zip(grads, model.trainable_weights))\n",
    "\n",
    "    # Log every 200 batches.\n",
    "    if step % 200 == 0:\n",
    "        print('Training loss (for one batch) at step %s: %s' % (step, float(loss_value)))\n",
    "        print('Seen so far: %s samples' % ((step + 1) * 64))"
   ]
  },
  {
   "cell_type": "markdown",
   "metadata": {
    "colab_type": "text",
    "id": "1lt9Yva8xgCs"
   },
   "source": [
    "### Low-level handling of metrics\n",
    "\n",
    "Let's add metrics to the mix. You can readily reuse the built-in metrics (or custom ones you wrote) in such training loops written from scratch. Here's the flow:\n",
    "\n",
    "- Instantiate the metric at the start of the loop\n",
    "- Call `metric.update_state()` after each batch\n",
    "- Call `metric.result()` when you need to display the current value of the metric\n",
    "- Call `metric.reset_states()` when you need to clear the state of the metric (typically at the end of an epoch)\n",
    "\n",
    "Let's use this knowledge to compute `SparseCategoricalAccuracy` on validation data at the end of each epoch:"
   ]
  },
  {
   "cell_type": "code",
   "execution_count": 32,
   "metadata": {
    "colab": {},
    "colab_type": "code",
    "id": "JDKgp70UxwdR"
   },
   "outputs": [
    {
     "name": "stdout",
     "output_type": "stream",
     "text": [
      "Start of epoch 0\n",
      "Training loss (for one batch) at step 0: 2.3381338119506836\n",
      "Seen so far: 64 samples\n",
      "Training loss (for one batch) at step 200: 2.231260299682617\n",
      "Seen so far: 12864 samples\n",
      "Training loss (for one batch) at step 400: 2.223952293395996\n",
      "Seen so far: 25664 samples\n",
      "Training loss (for one batch) at step 600: 2.130784511566162\n",
      "Seen so far: 38464 samples\n",
      "Training acc over epoch: 0.2505599856376648\n",
      "Validation acc: 0.40310001373291016\n",
      "Start of epoch 1\n",
      "Training loss (for one batch) at step 0: 2.111717700958252\n",
      "Seen so far: 64 samples\n",
      "Training loss (for one batch) at step 200: 1.9487433433532715\n",
      "Seen so far: 12864 samples\n",
      "Training loss (for one batch) at step 400: 1.957385540008545\n",
      "Seen so far: 25664 samples\n",
      "Training loss (for one batch) at step 600: 1.8128595352172852\n",
      "Seen so far: 38464 samples\n",
      "Training acc over epoch: 0.48976001143455505\n",
      "Validation acc: 0.5976999998092651\n",
      "Start of epoch 2\n",
      "Training loss (for one batch) at step 0: 1.8207323551177979\n",
      "Seen so far: 64 samples\n",
      "Training loss (for one batch) at step 200: 1.5933928489685059\n",
      "Seen so far: 12864 samples\n",
      "Training loss (for one batch) at step 400: 1.5726511478424072\n",
      "Seen so far: 25664 samples\n",
      "Training loss (for one batch) at step 600: 1.3752946853637695\n",
      "Seen so far: 38464 samples\n",
      "Training acc over epoch: 0.6444600224494934\n",
      "Validation acc: 0.714900016784668\n"
     ]
    }
   ],
   "source": [
    "# Get model\n",
    "inputs = keras.Input(shape=(784,), name='digits')\n",
    "x = layers.Dense(64, activation='relu', name='dense_1')(inputs)\n",
    "x = layers.Dense(64, activation='relu', name='dense_2')(x)\n",
    "outputs = layers.Dense(10, activation='softmax', name='predictions')(x)\n",
    "model = keras.Model(inputs=inputs, outputs=outputs)\n",
    "\n",
    "# Instantiate an optimizer to train the model.\n",
    "optimizer = keras.optimizers.SGD(learning_rate=1e-3)\n",
    "# Instantiate a loss function.\n",
    "loss_fn = keras.losses.SparseCategoricalCrossentropy()\n",
    "\n",
    "# Prepare the metrics.\n",
    "train_acc_metric = keras.metrics.SparseCategoricalAccuracy()\n",
    "val_acc_metric = keras.metrics.SparseCategoricalAccuracy()\n",
    "\n",
    "# Prepare the training dataset.\n",
    "batch_size = 64\n",
    "train_dataset = tf.data.Dataset.from_tensor_slices((x_train, y_train))\n",
    "train_dataset = train_dataset.shuffle(buffer_size=1024).batch(batch_size)\n",
    "\n",
    "# Prepare the validation dataset.\n",
    "val_dataset = tf.data.Dataset.from_tensor_slices((x_val, y_val))\n",
    "val_dataset = val_dataset.batch(64)\n",
    "\n",
    "\n",
    "# Iterate over epochs.\n",
    "for epoch in range(3):\n",
    "  print('Start of epoch %d' % (epoch,))\n",
    "\n",
    "  # Iterate over the batches of the dataset.\n",
    "  for step, (x_batch_train, y_batch_train) in enumerate(train_dataset):\n",
    "    with tf.GradientTape() as tape:\n",
    "      logits = model(x_batch_train)\n",
    "      loss_value = loss_fn(y_batch_train, logits)\n",
    "    grads = tape.gradient(loss_value, model.trainable_weights)\n",
    "    optimizer.apply_gradients(zip(grads, model.trainable_weights))\n",
    "\n",
    "    # Update training metric.\n",
    "    train_acc_metric(y_batch_train, logits)\n",
    "\n",
    "    # Log every 200 batches.\n",
    "    if step % 200 == 0:\n",
    "        print('Training loss (for one batch) at step %s: %s' % (step, float(loss_value)))\n",
    "        print('Seen so far: %s samples' % ((step + 1) * 64))\n",
    "\n",
    "  # Display metrics at the end of each epoch.\n",
    "  train_acc = train_acc_metric.result()\n",
    "  print('Training acc over epoch: %s' % (float(train_acc),))\n",
    "  # Reset training metrics at the end of each epoch\n",
    "  train_acc_metric.reset_states()\n",
    "\n",
    "  # Run a validation loop at the end of each epoch.\n",
    "  for x_batch_val, y_batch_val in val_dataset:\n",
    "    val_logits = model(x_batch_val)\n",
    "    # Update val metrics\n",
    "    val_acc_metric(y_batch_val, val_logits)\n",
    "  val_acc = val_acc_metric.result()\n",
    "  val_acc_metric.reset_states()\n",
    "  print('Validation acc: %s' % (float(val_acc),))"
   ]
  },
  {
   "cell_type": "markdown",
   "metadata": {
    "colab_type": "text",
    "id": "rjraqJAonBJK"
   },
   "source": [
    "### Low-level handling of extra losses\n",
    "\n",
    "You saw in the previous section that it is possible for regularization losses to be added by a layer by calling `self.add_loss(value)` in the `call` method.\n",
    "\n",
    "In the general case, you will want to take these losses into account in your custom training loops (unless you've written the model yourself and you already know that it creates no such losses).\n",
    "\n",
    "Recall this example from the previous section, featuring a layer that creates a regularization loss:\n"
   ]
  },
  {
   "cell_type": "code",
   "execution_count": 33,
   "metadata": {
    "colab": {},
    "colab_type": "code",
    "id": "fglnb_wzwtxh"
   },
   "outputs": [],
   "source": [
    "class ActivityRegularizationLayer(layers.Layer):\n",
    "\n",
    "  def call(self, inputs):\n",
    "    self.add_loss(1e-2 * tf.reduce_sum(inputs))\n",
    "    return inputs\n",
    "\n",
    "inputs = keras.Input(shape=(784,), name='digits')\n",
    "x = layers.Dense(64, activation='relu', name='dense_1')(inputs)\n",
    "# Insert activity regularization as a layer\n",
    "x = ActivityRegularizationLayer()(x)\n",
    "x = layers.Dense(64, activation='relu', name='dense_2')(x)\n",
    "outputs = layers.Dense(10, activation='softmax', name='predictions')(x)\n",
    "\n",
    "model = keras.Model(inputs=inputs, outputs=outputs)\n"
   ]
  },
  {
   "cell_type": "markdown",
   "metadata": {
    "colab_type": "text",
    "id": "44zwXYXdwwss"
   },
   "source": [
    "When you call a model, like this:\n",
    "\n",
    "```python\n",
    "logits = model(x_train)\n",
    "```\n",
    "\n",
    "the losses it creates during the forward pass are added to the `model.losses` attribute:"
   ]
  },
  {
   "cell_type": "code",
   "execution_count": 34,
   "metadata": {
    "colab": {},
    "colab_type": "code",
    "id": "KOWuXgDlxIbS"
   },
   "outputs": [
    {
     "name": "stdout",
     "output_type": "stream",
     "text": [
      "[<tf.Tensor: id=832999, shape=(), dtype=float32, numpy=8.244739>]\n"
     ]
    }
   ],
   "source": [
    "logits = model(x_train[:64])\n",
    "print(model.losses)"
   ]
  },
  {
   "cell_type": "markdown",
   "metadata": {
    "colab_type": "text",
    "id": "EvkOERFYymF_"
   },
   "source": [
    "The tracked losses are first cleared at the start of the model `__call__`, so you will only see the losses created during this one forward pass. For instance, calling the model repeatedly and then querying `losses` only displays the latest losses, created during the last call:"
   ]
  },
  {
   "cell_type": "code",
   "execution_count": 35,
   "metadata": {
    "colab": {},
    "colab_type": "code",
    "id": "MZh9ek_NzEtQ"
   },
   "outputs": [
    {
     "name": "stdout",
     "output_type": "stream",
     "text": [
      "[<tf.Tensor: id=833060, shape=(), dtype=float32, numpy=8.193191>]\n"
     ]
    }
   ],
   "source": [
    "logits = model(x_train[:64])\n",
    "logits = model(x_train[64: 128])\n",
    "logits = model(x_train[128: 192])\n",
    "print(model.losses)"
   ]
  },
  {
   "cell_type": "markdown",
   "metadata": {
    "colab_type": "text",
    "id": "MmftRMi6zWLN"
   },
   "source": [
    "To take these losses into account during training, all you have to do is to modify your training loop to add `sum(model.losses)` to your total loss:"
   ]
  },
  {
   "cell_type": "code",
   "execution_count": 36,
   "metadata": {
    "colab": {},
    "colab_type": "code",
    "id": "ueLhIG1mzdFp"
   },
   "outputs": [
    {
     "name": "stdout",
     "output_type": "stream",
     "text": [
      "Start of epoch 0\n",
      "Training loss (for one batch) at step 0: 10.652631759643555\n",
      "Seen so far: 64 samples\n",
      "Training loss (for one batch) at step 200: 2.4958138465881348\n",
      "Seen so far: 12864 samples\n",
      "Training loss (for one batch) at step 400: 2.3955352306365967\n",
      "Seen so far: 25664 samples\n",
      "Training loss (for one batch) at step 600: 2.3664965629577637\n",
      "Seen so far: 38464 samples\n",
      "Start of epoch 1\n",
      "Training loss (for one batch) at step 0: 2.3418867588043213\n",
      "Seen so far: 64 samples\n",
      "Training loss (for one batch) at step 200: 2.3297719955444336\n",
      "Seen so far: 12864 samples\n",
      "Training loss (for one batch) at step 400: 2.321657657623291\n",
      "Seen so far: 25664 samples\n",
      "Training loss (for one batch) at step 600: 2.3236403465270996\n",
      "Seen so far: 38464 samples\n",
      "Start of epoch 2\n",
      "Training loss (for one batch) at step 0: 2.3193399906158447\n",
      "Seen so far: 64 samples\n",
      "Training loss (for one batch) at step 200: 2.316805839538574\n",
      "Seen so far: 12864 samples\n",
      "Training loss (for one batch) at step 400: 2.3103792667388916\n",
      "Seen so far: 25664 samples\n",
      "Training loss (for one batch) at step 600: 2.313527822494507\n",
      "Seen so far: 38464 samples\n"
     ]
    }
   ],
   "source": [
    "optimizer = keras.optimizers.SGD(learning_rate=1e-3)\n",
    "\n",
    "for epoch in range(3):\n",
    "  print('Start of epoch %d' % (epoch,))\n",
    "\n",
    "  for step, (x_batch_train, y_batch_train) in enumerate(train_dataset):\n",
    "    with tf.GradientTape() as tape:\n",
    "      logits = model(x_batch_train)\n",
    "      loss_value = loss_fn(y_batch_train, logits)\n",
    "\n",
    "      # Add extra losses created during this forward pass:\n",
    "      loss_value += sum(model.losses)\n",
    "\n",
    "    grads = tape.gradient(loss_value, model.trainable_weights)\n",
    "    optimizer.apply_gradients(zip(grads, model.trainable_weights))\n",
    "\n",
    "    # Log every 200 batches.\n",
    "    if step % 200 == 0:\n",
    "        print('Training loss (for one batch) at step %s: %s' % (step, float(loss_value)))\n",
    "        print('Seen so far: %s samples' % ((step + 1) * 64))"
   ]
  },
  {
   "cell_type": "markdown",
   "metadata": {
    "colab_type": "text",
    "id": "wCOe4e4dxsB0"
   },
   "source": [
    "That was the last piece of the puzzle! You've reached the end of this guide.\n",
    "\n",
    "Now you know everything there is to know about using built-in training loops and writing your own from scratch.\n"
   ]
  }
 ],
 "metadata": {
  "colab": {
   "collapsed_sections": [],
   "name": "training_and_evaluation.ipynb",
   "private_outputs": true,
   "provenance": [],
   "toc_visible": true,
   "version": "0.3.2"
  },
  "kernelspec": {
   "display_name": "Python 3",
   "name": "python3"
  },
  "language_info": {
   "codemirror_mode": {
    "name": "ipython",
    "version": 3
   },
   "file_extension": ".py",
   "mimetype": "text/x-python",
   "name": "python",
   "nbconvert_exporter": "python",
   "pygments_lexer": "ipython3",
   "version": "3.5.2"
  }
 },
 "nbformat": 4,
 "nbformat_minor": 0
}
