{
 "cells": [
  {
   "cell_type": "code",
   "execution_count": 1,
   "metadata": {},
   "outputs": [],
   "source": [
    "import matplotlib.pyplot as plt\n",
    "import numpy as np\n",
    "%matplotlib inline\n",
    "\n",
    "import plaidml.keras\n",
    "plaidml.keras.install_backend()"
   ]
  },
  {
   "cell_type": "code",
   "execution_count": 2,
   "metadata": {},
   "outputs": [],
   "source": [
    "import tensorflow as tf\n",
    "import keras\n",
    "from keras.models import Sequential\n",
    "from keras.layers import Dense, Dropout, Flatten\n",
    "from keras.layers import Conv2D, MaxPooling2D"
   ]
  },
  {
   "cell_type": "code",
   "execution_count": 4,
   "metadata": {},
   "outputs": [
    {
     "name": "stdout",
     "output_type": "stream",
     "text": [
      "Extracting ./MINST_data/train-images-idx3-ubyte.gz\n",
      "Extracting ./MINST_data/train-labels-idx1-ubyte.gz\n",
      "Extracting ./MINST_data/t10k-images-idx3-ubyte.gz\n",
      "Extracting ./MINST_data/t10k-labels-idx1-ubyte.gz\n"
     ]
    }
   ],
   "source": [
    "from tensorflow.examples.tutorials.mnist import input_data\n",
    "\n",
    "mnist = input_data.read_data_sets(\"./MINST_data/\", one_hot=True)\n",
    "x_train = mnist.train.images\n",
    "x_test = mnist.test.images\n",
    "y_train = mnist.train.labels.astype(np.float32)\n",
    "y_test = mnist.test.labels.astype(np.float32)"
   ]
  },
  {
   "cell_type": "code",
   "execution_count": 5,
   "metadata": {},
   "outputs": [
    {
     "name": "stdout",
     "output_type": "stream",
     "text": [
      "x_train shape: (55000, 28, 28, 1)\n",
      "y_train shape (55000, 10)\n"
     ]
    }
   ],
   "source": [
    "# input image dimensions\n",
    "img_rows, img_cols = 28, 28\n",
    "\n",
    "x_train = x_train.reshape(x_train.shape[0], img_rows, img_cols, 1)\n",
    "x_test = x_test.reshape(x_test.shape[0], img_rows, img_cols, 1)\n",
    "input_shape = (img_rows, img_cols, 1)\n",
    "\n",
    "x_train = x_train.astype('float32')\n",
    "x_test = x_test.astype('float32')\n",
    "print('x_train shape:', x_train.shape)\n",
    "print('y_train shape', y_train.shape)"
   ]
  },
  {
   "cell_type": "code",
   "execution_count": 6,
   "metadata": {},
   "outputs": [],
   "source": [
    "batch_size = 512\n",
    "num_classes = 10\n",
    "epochs = 15"
   ]
  },
  {
   "cell_type": "code",
   "execution_count": 7,
   "metadata": {},
   "outputs": [],
   "source": [
    "# convert class vectors to binary class matrices; not needed here as the data is already in one-hot\n",
    "# y_train = keras.utils.to_categorical(y_train, num_classes)\n",
    "# y_test = keras.utils.to_categorical(y_test, num_classes)"
   ]
  },
  {
   "cell_type": "code",
   "execution_count": 8,
   "metadata": {},
   "outputs": [],
   "source": [
    "# TensorFlow uses the probability to keep nodes, while Keras uses the probability to drop them.\n",
    "def simple_model():\n",
    "    model = Sequential()\n",
    "    model.add(Conv2D(32, kernel_size=(3, 3), activation='relu', input_shape=input_shape))\n",
    "    model.add(MaxPooling2D(pool_size=(2, 2)))\n",
    "    model.add(Conv2D(64, (3, 3), activation='relu'))\n",
    "    model.add(Dropout(0.25))\n",
    "    model.add(Flatten())\n",
    "    model.add(Dense(128, activation='relu'))\n",
    "    model.add(Dropout(0.5))\n",
    "    model.add(Dense(num_classes, activation='softmax'))\n",
    "    return model\n",
    "\n",
    "def CNN_model():\n",
    "    model = Sequential()\n",
    "    model.add(Conv2D(32, kernel_size=(3, 3), activation='relu', input_shape=(28, 28, 1)))\n",
    "    model.add(Conv2D(64, (3, 3), activation='relu'))\n",
    "    model.add(MaxPooling2D(pool_size=(2, 2)))\n",
    "    model.add(Dropout(0.25))\n",
    "\n",
    "    model.add(Flatten())\n",
    "    model.add(Dense(128, activation='relu'))\n",
    "    model.add(Dropout(0.5))\n",
    "\n",
    "    model.add(Dense(num_classes, activation='softmax'))\n",
    "    return model"
   ]
  },
  {
   "cell_type": "code",
   "execution_count": 9,
   "metadata": {},
   "outputs": [
    {
     "name": "stderr",
     "output_type": "stream",
     "text": [
      "INFO:plaidml:Opening device \"opencl_nvidia_geforce_gtx_1050.0\"\n",
      "I0723 23:04:16.126873  7716 library.py:135] Opening device \"opencl_nvidia_geforce_gtx_1050.0\"\n"
     ]
    }
   ],
   "source": [
    "model = simple_model()"
   ]
  },
  {
   "cell_type": "code",
   "execution_count": null,
   "metadata": {},
   "outputs": [
    {
     "name": "stdout",
     "output_type": "stream",
     "text": [
      "Train on 55000 samples, validate on 10000 samples\n",
      "Epoch 1/15\n",
      "55000/55000 [==============================] - 27s 489us/step - loss: 0.5432 - acc: 0.8307 - val_loss: 0.1242 - val_acc: 0.9618\n",
      "Epoch 2/15\n",
      "55000/55000 [==============================] - 5s 97us/step - loss: 0.1574 - acc: 0.9534 - val_loss: 0.0723 - val_acc: 0.9772\n",
      "Epoch 3/15\n",
      "55000/55000 [==============================] - 5s 96us/step - loss: 0.1125 - acc: 0.9671 - val_loss: 0.0654 - val_acc: 0.9785\n",
      "Epoch 4/15\n",
      "55000/55000 [==============================] - 5s 96us/step - loss: 0.0953 - acc: 0.9717 - val_loss: 0.0478 - val_acc: 0.9844\n",
      "Epoch 5/15\n",
      "55000/55000 [==============================] - 5s 98us/step - loss: 0.0806 - acc: 0.9760 - val_loss: 0.0430 - val_acc: 0.9858\n",
      "Epoch 6/15\n",
      "55000/55000 [==============================] - 7s 119us/step - loss: 0.0707 - acc: 0.9782 - val_loss: 0.0397 - val_acc: 0.9864\n",
      "Epoch 7/15\n",
      "55000/55000 [==============================] - 7s 128us/step - loss: 0.0639 - acc: 0.9811 - val_loss: 0.0374 - val_acc: 0.9870\n",
      "Epoch 8/15\n",
      "55000/55000 [==============================] - 7s 128us/step - loss: 0.0556 - acc: 0.9829 - val_loss: 0.0359 - val_acc: 0.9875\n",
      "Epoch 9/15\n",
      "55000/55000 [==============================] - 7s 129us/step - loss: 0.0514 - acc: 0.9843 - val_loss: 0.0327 - val_acc: 0.9897\n",
      "Epoch 10/15\n",
      "55000/55000 [==============================] - 7s 127us/step - loss: 0.0466 - acc: 0.9865 - val_loss: 0.0349 - val_acc: 0.9891\n",
      "Epoch 11/15\n",
      "55000/55000 [==============================] - 7s 127us/step - loss: 0.0426 - acc: 0.9870 - val_loss: 0.0300 - val_acc: 0.9904\n",
      "Epoch 12/15\n",
      "55000/55000 [==============================] - 7s 126us/step - loss: 0.0397 - acc: 0.9878 - val_loss: 0.0291 - val_acc: 0.9900\n",
      "Epoch 13/15\n",
      "55000/55000 [==============================] - 7s 128us/step - loss: 0.0386 - acc: 0.9885 - val_loss: 0.0285 - val_acc: 0.9908\n",
      "Epoch 14/15\n",
      "55000/55000 [==============================] - 7s 127us/step - loss: 0.0351 - acc: 0.9893 - val_loss: 0.0293 - val_acc: 0.9907\n",
      "Epoch 15/15\n",
      "55000/55000 [==============================] - 7s 128us/step - loss: 0.0347 - acc: 0.9890 - val_loss: 0.0262 - val_acc: 0.9919\n"
     ]
    }
   ],
   "source": [
    "model.compile(loss=keras.losses.categorical_crossentropy,\n",
    "              optimizer=keras.optimizers.Adadelta(),\n",
    "              metrics=['accuracy'])\n",
    "model.fit(x_train, y_train,\n",
    "          batch_size=batch_size,\n",
    "          epochs=epochs, verbose=1,\n",
    "          validation_data=(x_test, y_test))\n",
    "score = model.evaluate(x_test, y_test, verbose=0)"
   ]
  },
  {
   "cell_type": "code",
   "execution_count": null,
   "metadata": {},
   "outputs": [],
   "source": [
    "print('Test loss:', score[0])\n",
    "print('Test accuracy:', score[1])"
   ]
  },
  {
   "cell_type": "code",
   "execution_count": null,
   "metadata": {},
   "outputs": [],
   "source": []
  }
 ],
 "metadata": {
  "kernelspec": {
   "display_name": "Python 3",
   "language": "python",
   "name": "python3"
  },
  "language_info": {
   "codemirror_mode": {
    "name": "ipython",
    "version": 3
   },
   "file_extension": ".py",
   "mimetype": "text/x-python",
   "name": "python",
   "nbconvert_exporter": "python",
   "pygments_lexer": "ipython3",
   "version": "3.6.8"
  }
 },
 "nbformat": 4,
 "nbformat_minor": 2
}
