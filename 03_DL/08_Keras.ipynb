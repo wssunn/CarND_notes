{
 "cells": [
  {
   "cell_type": "code",
   "execution_count": 1,
   "metadata": {},
   "outputs": [],
   "source": [
    "import matplotlib.pyplot as plt\n",
    "import numpy as np\n",
    "%matplotlib inline\n",
    "\n",
    "import plaidml.keras\n",
    "plaidml.keras.install_backend()"
   ]
  },
  {
   "cell_type": "code",
   "execution_count": 2,
   "metadata": {},
   "outputs": [],
   "source": [
    "import tensorflow as tf\n",
    "import keras\n",
    "from keras.models import Sequential\n",
    "from keras.layers import Dense, Dropout, Flatten\n",
    "from keras.layers import Conv2D, MaxPooling2D"
   ]
  },
  {
   "cell_type": "code",
   "execution_count": 3,
   "metadata": {},
   "outputs": [
    {
     "name": "stderr",
     "output_type": "stream",
     "text": [
      "WARNING: Logging before flag parsing goes to stderr.\n",
      "W0724 11:40:25.101354  6116 deprecation.py:323] From <ipython-input-3-23ce2e5d135f>:3: read_data_sets (from tensorflow.contrib.learn.python.learn.datasets.mnist) is deprecated and will be removed in a future version.\n",
      "Instructions for updating:\n",
      "Please use alternatives such as official/mnist/dataset.py from tensorflow/models.\n",
      "W0724 11:40:25.109089  6116 deprecation.py:323] From C:\\Coding\\Anaconda\\envs\\tensorflow\\lib\\site-packages\\tensorflow\\contrib\\learn\\python\\learn\\datasets\\mnist.py:260: maybe_download (from tensorflow.contrib.learn.python.learn.datasets.base) is deprecated and will be removed in a future version.\n",
      "Instructions for updating:\n",
      "Please write your own downloading logic.\n",
      "W0724 11:40:25.110538  6116 deprecation.py:323] From C:\\Coding\\Anaconda\\envs\\tensorflow\\lib\\site-packages\\tensorflow\\contrib\\learn\\python\\learn\\datasets\\mnist.py:262: extract_images (from tensorflow.contrib.learn.python.learn.datasets.mnist) is deprecated and will be removed in a future version.\n",
      "Instructions for updating:\n",
      "Please use tf.data to implement this functionality.\n"
     ]
    },
    {
     "name": "stdout",
     "output_type": "stream",
     "text": [
      "Extracting ./MINST_data/train-images-idx3-ubyte.gz\n"
     ]
    },
    {
     "name": "stderr",
     "output_type": "stream",
     "text": [
      "W0724 11:40:25.670172  6116 deprecation.py:323] From C:\\Coding\\Anaconda\\envs\\tensorflow\\lib\\site-packages\\tensorflow\\contrib\\learn\\python\\learn\\datasets\\mnist.py:267: extract_labels (from tensorflow.contrib.learn.python.learn.datasets.mnist) is deprecated and will be removed in a future version.\n",
      "Instructions for updating:\n",
      "Please use tf.data to implement this functionality.\n",
      "W0724 11:40:25.677844  6116 deprecation.py:323] From C:\\Coding\\Anaconda\\envs\\tensorflow\\lib\\site-packages\\tensorflow\\contrib\\learn\\python\\learn\\datasets\\mnist.py:110: dense_to_one_hot (from tensorflow.contrib.learn.python.learn.datasets.mnist) is deprecated and will be removed in a future version.\n",
      "Instructions for updating:\n",
      "Please use tf.one_hot on tensors.\n",
      "W0724 11:40:25.796456  6116 deprecation.py:323] From C:\\Coding\\Anaconda\\envs\\tensorflow\\lib\\site-packages\\tensorflow\\contrib\\learn\\python\\learn\\datasets\\mnist.py:290: DataSet.__init__ (from tensorflow.contrib.learn.python.learn.datasets.mnist) is deprecated and will be removed in a future version.\n",
      "Instructions for updating:\n",
      "Please use alternatives such as official/mnist/dataset.py from tensorflow/models.\n"
     ]
    },
    {
     "name": "stdout",
     "output_type": "stream",
     "text": [
      "Extracting ./MINST_data/train-labels-idx1-ubyte.gz\n",
      "Extracting ./MINST_data/t10k-images-idx3-ubyte.gz\n",
      "Extracting ./MINST_data/t10k-labels-idx1-ubyte.gz\n"
     ]
    }
   ],
   "source": [
    "from tensorflow.examples.tutorials.mnist import input_data\n",
    "\n",
    "mnist = input_data.read_data_sets(\"./MINST_data/\", one_hot=True)\n",
    "x_train = mnist.train.images\n",
    "x_test = mnist.test.images\n",
    "y_train = mnist.train.labels.astype(np.float32)\n",
    "y_test = mnist.test.labels.astype(np.float32)"
   ]
  },
  {
   "cell_type": "code",
   "execution_count": 4,
   "metadata": {},
   "outputs": [
    {
     "name": "stdout",
     "output_type": "stream",
     "text": [
      "x_train shape: (55000, 28, 28, 1)\n",
      "y_train shape (55000, 10)\n"
     ]
    }
   ],
   "source": [
    "# input image dimensions\n",
    "img_rows, img_cols = 28, 28\n",
    "\n",
    "x_train = x_train.reshape(x_train.shape[0], img_rows, img_cols, 1)\n",
    "x_test = x_test.reshape(x_test.shape[0], img_rows, img_cols, 1)\n",
    "input_shape = (img_rows, img_cols, 1)\n",
    "\n",
    "x_train = x_train.astype('float32')\n",
    "x_test = x_test.astype('float32')\n",
    "print('x_train shape:', x_train.shape)\n",
    "print('y_train shape', y_train.shape)"
   ]
  },
  {
   "cell_type": "code",
   "execution_count": 5,
   "metadata": {},
   "outputs": [],
   "source": [
    "batch_size = 512\n",
    "num_classes = 10\n",
    "epochs = 15"
   ]
  },
  {
   "cell_type": "code",
   "execution_count": 6,
   "metadata": {},
   "outputs": [],
   "source": [
    "# convert class vectors to binary class matrices; not needed here as the data is already in one-hot\n",
    "# y_train = keras.utils.to_categorical(y_train, num_classes)\n",
    "# y_test = keras.utils.to_categorical(y_test, num_classes)"
   ]
  },
  {
   "cell_type": "code",
   "execution_count": 7,
   "metadata": {},
   "outputs": [],
   "source": [
    "# TensorFlow uses the probability to keep nodes, while Keras uses the probability to drop them.\n",
    "def simple_model():\n",
    "    model = Sequential()\n",
    "    model.add(Conv2D(32, kernel_size=(3, 3), activation='relu', input_shape=input_shape))\n",
    "    model.add(MaxPooling2D(pool_size=(2, 2)))\n",
    "    model.add(Conv2D(64, (3, 3), activation='relu'))\n",
    "    model.add(Dropout(0.25))\n",
    "    model.add(Flatten())\n",
    "    model.add(Dense(128, activation='relu'))\n",
    "    model.add(Dropout(0.5))\n",
    "    model.add(Dense(num_classes, activation='softmax'))\n",
    "    return model\n",
    "\n",
    "def CNN_model():\n",
    "    model = Sequential()\n",
    "    model.add(Conv2D(32, kernel_size=(3, 3), activation='relu', input_shape=(28, 28, 1)))\n",
    "    model.add(Conv2D(64, (3, 3), activation='relu'))\n",
    "    model.add(MaxPooling2D(pool_size=(2, 2)))\n",
    "    model.add(Dropout(0.25))\n",
    "\n",
    "    model.add(Flatten())\n",
    "    model.add(Dense(128, activation='relu'))\n",
    "    model.add(Dropout(0.5))\n",
    "\n",
    "    model.add(Dense(num_classes, activation='softmax'))\n",
    "    return model"
   ]
  },
  {
   "cell_type": "code",
   "execution_count": 8,
   "metadata": {},
   "outputs": [
    {
     "name": "stderr",
     "output_type": "stream",
     "text": [
      "INFO:plaidml:Opening device \"opencl_nvidia_geforce_gtx_1050.0\"\n",
      "I0724 11:40:56.782687  6116 library.py:135] Opening device \"opencl_nvidia_geforce_gtx_1050.0\"\n"
     ]
    }
   ],
   "source": [
    "model = simple_model()"
   ]
  },
  {
   "cell_type": "code",
   "execution_count": 9,
   "metadata": {},
   "outputs": [
    {
     "name": "stdout",
     "output_type": "stream",
     "text": [
      "Train on 55000 samples, validate on 10000 samples\n",
      "Epoch 1/15\n",
      "54784/55000 [============================>.] - ETA: 0s - loss: 0.5486 - acc: 0.8279"
     ]
    },
    {
     "name": "stderr",
     "output_type": "stream",
     "text": [
      "INFO:plaidml:Analyzing Ops: 83 of 282 operations complete\n",
      "I0724 11:41:13.044248  6116 library.py:135] Analyzing Ops: 83 of 282 operations complete\n"
     ]
    },
    {
     "name": "stdout",
     "output_type": "stream",
     "text": [
      "55000/55000 [==============================] - 16s 282us/step - loss: 0.5470 - acc: 0.8284 - val_loss: 0.1151 - val_acc: 0.9659\n",
      "Epoch 2/15\n",
      "55000/55000 [==============================] - 7s 119us/step - loss: 0.1561 - acc: 0.9537 - val_loss: 0.0857 - val_acc: 0.9722\n",
      "Epoch 3/15\n",
      "55000/55000 [==============================] - 6s 107us/step - loss: 0.1112 - acc: 0.9663 - val_loss: 0.0555 - val_acc: 0.9817\n",
      "Epoch 4/15\n",
      "55000/55000 [==============================] - 5s 89us/step - loss: 0.0918 - acc: 0.9723 - val_loss: 0.0453 - val_acc: 0.9841\n",
      "Epoch 5/15\n",
      "55000/55000 [==============================] - 5s 88us/step - loss: 0.0770 - acc: 0.9770 - val_loss: 0.0444 - val_acc: 0.9858\n",
      "Epoch 6/15\n",
      "55000/55000 [==============================] - 5s 88us/step - loss: 0.0665 - acc: 0.9805 - val_loss: 0.0375 - val_acc: 0.9881\n",
      "Epoch 7/15\n",
      "55000/55000 [==============================] - 5s 87us/step - loss: 0.0612 - acc: 0.9809 - val_loss: 0.0382 - val_acc: 0.9874\n",
      "Epoch 8/15\n",
      "55000/55000 [==============================] - 5s 88us/step - loss: 0.0544 - acc: 0.9837 - val_loss: 0.0327 - val_acc: 0.9895\n",
      "Epoch 9/15\n",
      "55000/55000 [==============================] - 5s 88us/step - loss: 0.0503 - acc: 0.9847 - val_loss: 0.0323 - val_acc: 0.9898\n",
      "Epoch 10/15\n",
      "55000/55000 [==============================] - 5s 88us/step - loss: 0.0446 - acc: 0.9864 - val_loss: 0.0308 - val_acc: 0.9904\n",
      "Epoch 11/15\n",
      "55000/55000 [==============================] - 5s 88us/step - loss: 0.0426 - acc: 0.9864 - val_loss: 0.0310 - val_acc: 0.9900\n",
      "Epoch 12/15\n",
      "55000/55000 [==============================] - 5s 89us/step - loss: 0.0402 - acc: 0.9876 - val_loss: 0.0307 - val_acc: 0.9901\n",
      "Epoch 13/15\n",
      "55000/55000 [==============================] - 5s 88us/step - loss: 0.0370 - acc: 0.9890 - val_loss: 0.0279 - val_acc: 0.9899\n",
      "Epoch 14/15\n",
      "55000/55000 [==============================] - 5s 88us/step - loss: 0.0352 - acc: 0.9891 - val_loss: 0.0303 - val_acc: 0.9913\n",
      "Epoch 15/15\n",
      "55000/55000 [==============================] - 5s 88us/step - loss: 0.0330 - acc: 0.9895 - val_loss: 0.0304 - val_acc: 0.9898\n"
     ]
    }
   ],
   "source": [
    "model.compile(loss=keras.losses.categorical_crossentropy,\n",
    "              optimizer=keras.optimizers.Adadelta(),\n",
    "              metrics=['accuracy'])\n",
    "model.fit(x_train, y_train,\n",
    "          batch_size=batch_size,\n",
    "          epochs=epochs, verbose=1,\n",
    "          validation_data=(x_test, y_test))\n",
    "score = model.evaluate(x_test, y_test, verbose=0)"
   ]
  },
  {
   "cell_type": "code",
   "execution_count": 10,
   "metadata": {},
   "outputs": [
    {
     "name": "stdout",
     "output_type": "stream",
     "text": [
      "Test loss: 0.030447034907341002\n",
      "Test accuracy: 0.9898\n"
     ]
    }
   ],
   "source": [
    "print('Test loss:', score[0])\n",
    "print('Test accuracy:', score[1])"
   ]
  },
  {
   "cell_type": "code",
   "execution_count": null,
   "metadata": {},
   "outputs": [],
   "source": []
  }
 ],
 "metadata": {
  "kernelspec": {
   "display_name": "Python 3",
   "language": "python",
   "name": "python3"
  },
  "language_info": {
   "codemirror_mode": {
    "name": "ipython",
    "version": 3
   },
   "file_extension": ".py",
   "mimetype": "text/x-python",
   "name": "python",
   "nbconvert_exporter": "python",
   "pygments_lexer": "ipython3",
   "version": "3.6.8"
  }
 },
 "nbformat": 4,
 "nbformat_minor": 2
}
